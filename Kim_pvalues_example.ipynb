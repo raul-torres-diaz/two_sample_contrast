{
 "cells": [
  {
   "cell_type": "markdown",
   "metadata": {},
   "source": [
    "## Empirical Examples from Kim, 1987"
   ]
  },
  {
   "cell_type": "markdown",
   "metadata": {},
   "source": [
    "### 1. Import libraries"
   ]
  },
  {
   "cell_type": "code",
   "execution_count": 1,
   "metadata": {},
   "outputs": [
    {
     "name": "stdout",
     "output_type": "stream",
     "text": [
      "Once deleted, variables cannot be recovered. Proceed (y/[n])? y\n"
     ]
    }
   ],
   "source": [
    "%reset\n",
    "import numpy as np\n",
    "import matplotlib.pyplot as plt\n",
    "import operator as op\n",
    "from functools import reduce"
   ]
  },
  {
   "cell_type": "markdown",
   "metadata": {},
   "source": [
    "### 2. Cutting functions: Class definition"
   ]
  },
  {
   "cell_type": "code",
   "execution_count": 2,
   "metadata": {},
   "outputs": [],
   "source": [
    "# the class allow to define both cutting functions and permutations, in order to execute a bisection method or randomly\n",
    "class CPfunctions():\n",
    "    def __init__(self, \n",
    "                 Ndata, cut = None, perm = None):\n",
    "        self.N = Ndata   # size of the data\n",
    "    def permutation(self, random = False):\n",
    "        \"\"\"\n",
    "        Define the permutation index for a bisection method, or in a random fashion if random is True\n",
    "        \"\"\"\n",
    "        N = self.N\n",
    "        K = np.arange(1,N+1)\n",
    "        new_K = []\n",
    "        if random:\n",
    "            np.random.shuffle(K)\n",
    "            new_K = K\n",
    "        else:\n",
    "            k_first = list(K)\n",
    "            k_first.sort()\n",
    "            K_List = [k_first]\n",
    "            K_marker = [0]  # index that says if the corresponding K_List has been partitioned or not\n",
    "\n",
    "            for i in range(N):\n",
    "                # choose list to divide\n",
    "                for j in range(len(K_List)):\n",
    "                    if K_marker[j] == 0 and len(K_List[j]) >= 1:\n",
    "                        length_K = len(K_List[j])\n",
    "                        # choose position of new_K in the list\n",
    "                        K_position = (length_K+1)//2 -1   # the middle (even) or the first integer greater than the middle (odd)\n",
    "                        new_K.append(K_List[j][K_position])\n",
    "                        # split the existing array            \n",
    "                        K_List.append(K_List[j][:K_position])\n",
    "                        K_List.append(K_List[j][K_position+1:])\n",
    "                        K_marker[j] = 1\n",
    "                        K_marker.append(0)\n",
    "                        K_marker.append(0)\n",
    "                        # now add elements to H_new\n",
    "                        break\n",
    "                        \n",
    "        self.perm = np.array(new_K)\n",
    "        \n",
    "    def cutting(self, random = False):\n",
    "        N = self.N\n",
    "        H = np.random.randint(0, 2, N)\n",
    "        K = self.perm\n",
    "        new_H = H\n",
    "        if not random:            \n",
    "            H_counter = []   # counter to asign values of H\n",
    "            h = 0\n",
    "            while sum(H_counter) <= len(new_H):\n",
    "                H_counter.append(2**h)\n",
    "                h = h+1\n",
    "\n",
    "            H_value = [0]*len(H_counter)    # values of H to asign\n",
    "            for i in range(len(H_value)):\n",
    "                if i%2 == 1:\n",
    "                    H_value[i] = 1\n",
    "\n",
    "            # for each element in K, asign the corresponding element in H\n",
    "\n",
    "            for i in range(N):\n",
    "                for m in range(len(H_value)):\n",
    "                    if i+1 <= sum(H_counter[:m+1]):\n",
    "                        new_H[K[i]-1] = H_value[m]\n",
    "                        break\n",
    "                        \n",
    "        self.cut = np.array(new_H)\n"
   ]
  },
  {
   "cell_type": "markdown",
   "metadata": {},
   "source": [
    "### 3. Blocks: Class definition"
   ]
  },
  {
   "cell_type": "markdown",
   "metadata": {},
   "source": [
    "### Let's define a class to work with the blocks"
   ]
  },
  {
   "cell_type": "code",
   "execution_count": 3,
   "metadata": {},
   "outputs": [],
   "source": [
    "class block():\n",
    "    def __init__(self, \n",
    "                 vertices = None, \n",
    "                 elements = None, \n",
    "                 stats = None, \n",
    "                 parent = None, \n",
    "                 leftChild = None, \n",
    "                 rightChild = None, \n",
    "                 prefChild = None):\n",
    "        self.vertices = vertices   # array with 2 bidimensional elements, corresponding to the vertices of the block\n",
    "                                   # vertices must be ordered starting from the left bottom vertix and finishing with the\n",
    "                                   # right top vertix\n",
    "                                   # the array must have two rows and two columns (bidimensional case)\n",
    "        self.elements = elements   # array with the points that belong to the block. Each row contains an element and each\n",
    "                                   # column is a dimension (in this case, bidimensional)\n",
    "        self.stats = np.sort(stats) # array with index of blocks\n",
    "        self.parent = parent       # parent of the block\n",
    "        self.leftChild = leftChild\n",
    "        self.rightChild = rightChild\n",
    "        self.prefChild = prefChild\n",
    "    \n",
    "    def plot(self, color = 'C0', lw = 1, size = 12, print_num = True):\n",
    "        plt.plot(self.vertices[:,0], np.ones(2)*self.vertices[0,1], color = color, lw = lw)\n",
    "        plt.plot(np.ones(2)*self.vertices[1,0], self.vertices[:,1], color = color, lw = lw)\n",
    "        plt.plot(self.vertices[:,0], np.ones(2)*self.vertices[1,1], color = color, lw = lw)\n",
    "        plt.plot(np.ones(2)*self.vertices[0,0], self.vertices[:,1], color = color, lw = lw)\n",
    "        xplot = (self.vertices[0,0]+self.vertices[1,0])/2\n",
    "        yplot = (self.vertices[0,1]+self.vertices[1,1])/2\n",
    "        if self.stats.size == 1 and print_num:\n",
    "            plt.text(xplot, yplot, str(self.stats[0]), fontsize = size)\n",
    "\n",
    "        \n",
    "    def split(self, axis, korder):\n",
    "        \"\"\"\n",
    "        This method split a Block and creates two child blocks, making the partition on the korder th statistic\n",
    "        axis: indicates wheter it is along the X axis (vertical, 0) or the Y axis (horizontal, 1)\n",
    "        korder: is the order statistic to make the partition\n",
    "        \"\"\"\n",
    "        # select the dimension to sort\n",
    "        Xele = self.elements[:,axis]\n",
    "        # select the kth order statistic\n",
    "        Xorder = np.sort(Xele)\n",
    "        minStat = min(self.stats)\n",
    "        korder = korder - minStat\n",
    "        xstat = Xorder[korder]\n",
    "        # divide the stats\n",
    "        statsL = self.stats[:korder+1]\n",
    "        statsR = self.stats[korder+1:]\n",
    "        # create the elements and vertices of each block\n",
    "        Relements = np.empty((0, 2))\n",
    "        Lelements = np.empty((0, 2))\n",
    "        \n",
    "        # add elements to vertices and elements for each case\n",
    "        if axis == 0:\n",
    "            Lvertices = np.array([self.vertices[0,:], [xstat, self.vertices[1,1]]])\n",
    "            Rvertices = np.array([[xstat, self.vertices[0,1]], self.vertices[1,:]])\n",
    "            # now we move on the elements of the parent block and select wich ones go to the left and right child\n",
    "            for l in range(self.elements.shape[0]):\n",
    "                if Xele[l] < xstat:\n",
    "                    Lelements = np.append(Lelements, [self.elements[l, :]], axis = 0)   # add the new element as a row\n",
    "                elif Xele[l] > xstat:\n",
    "                    Relements = np.append(Relements, [self.elements[l, :]], axis = 0)   # add the new element as a row\n",
    "                else:\n",
    "                    Pchild = [self.elements[l,:]]  # chosen kth order \n",
    "        elif axis == 1:\n",
    "            Lvertices = np.array([self.vertices[0,:], [self.vertices[1,0], xstat]])\n",
    "            Rvertices = np.array([[self.vertices[0,0], xstat],self.vertices[1,:]])\n",
    "            # now we move on the elements of the parent block and select wich ones go to the left and right child\n",
    "            for l in range(self.elements.shape[0]):\n",
    "                if Xele[l] < xstat:\n",
    "                    Lelements = np.append(Lelements, [self.elements[l, :]], axis = 0)   # add the new element as a row\n",
    "                elif Xele[l] > xstat:\n",
    "                    Relements = np.append(Relements, [self.elements[l, :]], axis = 0)   # add the new element as a row\n",
    "                else:\n",
    "                    Pchild = [self.elements[l,:]]   # chosen kth order \n",
    "                \n",
    "        # create the childs of the block\n",
    "        Rchild = block(vertices = Rvertices, elements = Relements, stats = statsR, parent = self)  \n",
    "        # right side or up side (the greaters elements)\n",
    "        Lchild = block(vertices = Lvertices, elements = Lelements, stats = statsL, parent = self)   \n",
    "        # left side or down side (the smaller elements)\n",
    "        \n",
    "        # asociate the childs to the parten\n",
    "        self.rightChild = Rchild\n",
    "        self.leftChild = Lchild\n",
    "        self.prefChild = Pchild\n",
    "        # return the place where the partition was made\n",
    "        return xstat\n",
    "    \n",
    "    def belong(self, x):\n",
    "        nx = x.shape[0]\n",
    "        out = True\n",
    "        for i in range(nx):\n",
    "            out = out and self.vertices[0,i] < x[i] <= self.vertices[1,i]\n",
    "        return out\n",
    "        \n",
    "        "
   ]
  },
  {
   "cell_type": "code",
   "execution_count": 4,
   "metadata": {},
   "outputs": [],
   "source": [
    "# other functions to calculate distributions and order blocks\n",
    "\n",
    "def ncr(n, r):\n",
    "    r = min(r, n-r)\n",
    "    numer = reduce(op.mul, range(n, n-r, -1), 1)\n",
    "    denom = reduce(op.mul, range(1, r+1), 1)\n",
    "    return numer / denom\n",
    "\n",
    "def prob_M_null(s, N, M):\n",
    "    \"\"\"\n",
    "    Calculate probabilitie that exactly s of the ma's are 0, under H0\n",
    "    N is the size of data that defined the blocks (therefore, s in {0,...,N})\n",
    "    M is the size of new data that is being compared\n",
    "    \"\"\"    \n",
    "    if N >= M-1 and s < N-M+1:\n",
    "        return 0\n",
    "    else:\n",
    "        num = ncr(N+1, s)*ncr(M-1, N-s)\n",
    "        den = ncr(M+N, N)\n",
    "        return num/den\n",
    "    \n",
    "    return num/den\n",
    "\n",
    "def order_blocks(Blocks):\n",
    "    \"\"\"\n",
    "    order the final blocks, so in the list of blocks they will be on the order corresponding to their statistics\n",
    "    \"\"\"\n",
    "    Blocks_Order = []\n",
    "    N_Blocks = len(Blocks)\n",
    "    Assigned_Blocks = 0\n",
    "    i = 0\n",
    "    while Assigned_Blocks < N_Blocks:\n",
    "        if Blocks[int(i%N_Blocks)].stats[0] == Assigned_Blocks+1:\n",
    "            Blocks_Order.extend([Blocks[i%N_Blocks]])\n",
    "            Assigned_Blocks = Assigned_Blocks + 1\n",
    "        i = i + 1  # search in another block\n",
    "    return Blocks_Order\n",
    "\n",
    "def counting_blocks(Blocks, data):\n",
    "    \"\"\"\n",
    "    counts the number of elementos from data belonging to each block of the list Blocks\n",
    "    \"\"\"\n",
    "    data_copy = np.copy(data)   # copy Y to eliminate the elements already assigned to a block\n",
    "    Ma = np.zeros(len(Blocks))  # \n",
    "\n",
    "    # calculate the values of m_{alpha}\n",
    "    for k in range(len(Blocks)):\n",
    "        i = 0\n",
    "        while i < data_copy.shape[0]:   # count the elements that belong to the k-th block\n",
    "            if Blocks[k].belong(data_copy[i,:]):\n",
    "                Ma[k] = Ma[k] + 1\n",
    "                data_copy = np.delete(data_copy, i, axis = 0)  # eliminate to make a shorter search\n",
    "                i = i - 1\n",
    "            i = i + 1\n",
    "    return Ma\n"
   ]
  },
  {
   "cell_type": "markdown",
   "metadata": {},
   "source": [
    "### 4. Blocks from data X or Y\n",
    "### We proceed to use the block class to apply the partition in an iterative loop"
   ]
  },
  {
   "cell_type": "code",
   "execution_count": 5,
   "metadata": {},
   "outputs": [
    {
     "name": "stderr",
     "output_type": "stream",
     "text": [
      "The PostScript backend does not support transparency; partially transparent artists will be rendered opaque.\n",
      "The PostScript backend does not support transparency; partially transparent artists will be rendered opaque.\n",
      "The PostScript backend does not support transparency; partially transparent artists will be rendered opaque.\n",
      "The PostScript backend does not support transparency; partially transparent artists will be rendered opaque.\n"
     ]
    },
    {
     "data": {
      "image/png": "[encoded data removed]",
      "text/plain": [
       "<Figure size 648x504 with 1 Axes>"
      ]
     },
     "metadata": {
      "needs_background": "light"
     },
     "output_type": "display_data"
    }
   ],
   "source": [
    "# first data from Kim: Location\n",
    "meanX = 0*np.array([1,1])\n",
    "covX = 1*np.array([[1,-0.5],[-0.5,1]])\n",
    "meanY = np.array([0,0])\n",
    "covY = 1*np.array([[1,0.5],[0.5,1]])\n",
    "N = 32\n",
    "M = 32\n",
    "\n",
    "# define cutting functions and permutation order, blocks from data X\n",
    "Lists = CPfunctions(N)\n",
    "Lists.permutation()\n",
    "Lists.cutting()\n",
    "K = Lists.perm\n",
    "H = Lists.cut\n",
    "\n",
    "#generate X data\n",
    "X = np.random.multivariate_normal(meanX, covX, N)\n",
    "# generate Y data\n",
    "Y = np.random.multivariate_normal(meanY, covY, M)\n",
    "dist_type = 'Correlation'\n",
    "\n",
    "# plot\n",
    "fig = plt.figure(figsize=(9,7))\n",
    "# Bloque.plot(color = 'g')\n",
    "plt.plot(X[:,0], X[:,1], 'o', color = 'C1', label = 'X sample')\n",
    "plt.plot(Y[:,0], Y[:,1], 'o', color = 'C2', label = 'Y sample')\n",
    "plt.legend()\n",
    "\n",
    "Xmin = min(meanX[0]-4*covX[0,0], meanY[0]-4*covY[0,0])\n",
    "Xmax = max(meanX[0]+4*covX[0,0], meanY[0]+4*covY[0,0])\n",
    "Ymin = min(meanX[1]-4*covX[1,1], meanY[1]-4*covY[1,1])\n",
    "Ymax = max(meanX[1]+4*covX[1,1], meanY[1]+4*covY[1,1])\n",
    "\n",
    "plt.xlim(Xmin,Xmax)\n",
    "plt.ylim(Ymin,Ymax)\n",
    "plt.title('Samples from X (orange) and Y (green) - '+dist_type)\n",
    "\n",
    "fig.savefig('Report 3/samples'+dist_type+'.eps', format='eps', bbox_inches='tight')\n",
    "fig.savefig('Report 3/samples'+dist_type+'.png', format='png', bbox_inches='tight')\n",
    "\n"
   ]
  },
  {
   "cell_type": "code",
   "execution_count": 6,
   "metadata": {},
   "outputs": [],
   "source": [
    "# create list with blocks\n",
    "First_Block = block(vertices = np.array([[Xmin,Ymin],[Xmax,Ymax]]), elements = Y, stats = range(1,N+2))\n",
    "\n",
    "Blocks_List = [First_Block]\n",
    "\n",
    "step = N\n",
    "\n",
    "for i in range(step):\n",
    "    # search the last block that has the K[i] stat\n",
    "    for j in range(len(Blocks_List)):\n",
    "        if K[i] in Blocks_List[j].stats and Blocks_List[j].leftChild == None:\n",
    "            Blocks_List[j].split(axis = H[K[i]-1], korder = K[i])\n",
    "            Blocks_List.extend([Blocks_List[j].leftChild, Blocks_List[j].rightChild])\n",
    "            break"
   ]
  },
  {
   "cell_type": "markdown",
   "metadata": {},
   "source": [
    "### Now we plot the finals blocks"
   ]
  },
  {
   "cell_type": "code",
   "execution_count": 7,
   "metadata": {},
   "outputs": [
    {
     "data": {
      "image/png": "[encoded data removed]",
      "text/plain": [
       "<Figure size 648x504 with 1 Axes>"
      ]
     },
     "metadata": {
      "needs_background": "light"
     },
     "output_type": "display_data"
    }
   ],
   "source": [
    "# plot\n",
    "fig = plt.figure(figsize=(9,7))\n",
    "plt.plot(X[:,0], X[:,1], 'o', color = 'C1', ms = 7)\n",
    "\n",
    "plt.xlim(Xmin,Xmax)\n",
    "plt.ylim(Ymin,Ymax)\n",
    "\n",
    "# create list of final blocks\n",
    "Blocks_Final = []\n",
    "block_ref = list()\n",
    "\n",
    "for j in range(len(Blocks_List)):\n",
    "    if Blocks_List[j].leftChild == None:\n",
    "        Blocks_Final.extend([Blocks_List[j]])\n",
    "        Blocks_List[j].plot(print_num = True)\n",
    "        block_ref.append(Blocks_List[j].stats)\n",
    "        \n",
    "plt.plot(Y[:,0], Y[:,1], 'o', color = 'C2', ms = 7)\n",
    "plt.title('SEBs obtained using the Y sample - '+dist_type)\n",
    "        \n",
    "fig.savefig('Report 3/SEB-Y-'+dist_type+'.eps', format='eps', bbox_inches='tight')\n",
    "fig.savefig('Report 3/SEB-Y-'+dist_type+'.png', format='png', bbox_inches='tight')\n"
   ]
  },
  {
   "cell_type": "markdown",
   "metadata": {},
   "source": [
    "### 5. Test if both data come from the same distribution"
   ]
  },
  {
   "cell_type": "code",
   "execution_count": 15,
   "metadata": {
    "scrolled": true
   },
   "outputs": [
    {
     "name": "stderr",
     "output_type": "stream",
     "text": [
      "The PostScript backend does not support transparency; partially transparent artists will be rendered opaque.\n",
      "The PostScript backend does not support transparency; partially transparent artists will be rendered opaque.\n",
      "The PostScript backend does not support transparency; partially transparent artists will be rendered opaque.\n",
      "The PostScript backend does not support transparency; partially transparent artists will be rendered opaque.\n"
     ]
    },
    {
     "name": "stdout",
     "output_type": "stream",
     "text": [
      "20 0.0664198708754508 0.6279749330087897\n",
      "22\n",
      "The samples were generated from different distributions\n"
     ]
    },
    {
     "data": {
      "image/png": "[encoded data removed]",
      "text/plain": [
       "<Figure size 648x504 with 1 Axes>"
      ]
     },
     "metadata": {
      "needs_background": "light"
     },
     "output_type": "display_data"
    }
   ],
   "source": [
    "# order the blocks and count their elements\n",
    "Blocks_Order = order_blocks(Blocks_Final)\n",
    "Ma = counting_blocks(Blocks_Order, X)\n",
    "\n",
    "# let's calculate the S distribution, under H0\n",
    "\n",
    "s_prob = np.zeros(N+1)  # there are N + 1 blocks\n",
    "\n",
    "for s in range(N+1):\n",
    "    s_prob[s] = prob_M_null(s, N, M)\n",
    "\n",
    "# let's calculate the complement cumulative distribution, under H0 \n",
    "# (we calculate the probability to have at least s m_a's that are 0)\n",
    "S_prob = np.zeros(N+1)\n",
    "for s in range(N+1):\n",
    "    S_prob[s] = sum(s_prob[s:])\n",
    "    \n",
    "# confidence level\n",
    "alpha = 0.05\n",
    "    \n",
    "fig = plt.figure(figsize=(9,7))\n",
    "plt.plot(range(0, N+1), S_prob, 'o-', color = 'C0', ms = 5, label = r'$P(\\varepsilon \\geq n|H_0)$')\n",
    "plt.plot([0,N], [alpha, alpha], '-', color = 'C3', lw = 2, label = r'$\\alpha$')\n",
    "plt.xlabel('Number of empty blocks (n)')\n",
    "plt.ylabel('Probability')\n",
    "plt.title('Probability of obtaing n or more empty blocks under H0 - N='+str(N)+' - M='+str(M))\n",
    "plt.ylim(0,1)\n",
    "plt.grid()\n",
    "plt.legend()\n",
    "\n",
    "fig.savefig('Report 3/cum-N'+str(N)+'-M'+str(M)+'.eps', format='eps', bbox_inches='tight')\n",
    "fig.savefig('Report 3/cum-N'+str(N)+'-M'+str(M)+'.png', format='png', bbox_inches='tight')\n",
    "\n",
    "# find the element with significance level closer to alpha\n",
    "index = (np.abs(S_prob-alpha)).argmin()\n",
    "if S_prob[index] < alpha:\n",
    "    index = index - 1\n",
    "    \n",
    "Pindex = (alpha- S_prob[index + 1])/(S_prob[index]-S_prob[index+1])\n",
    "    \n",
    "print(index, S_prob[index], Pindex)\n",
    "\n",
    "# finally count the null elements\n",
    "M_nulls = np.count_nonzero(Ma==0)\n",
    "print(M_nulls)\n",
    "if M_nulls > index:\n",
    "    print('The samples were generated from different distributions')\n",
    "elif M_nulls == index:  # reject H0 with probability Pindex\n",
    "    Unif = np.random.uniform()\n",
    "    if Unif < Pindex:   # uniform[0,1] distribution compared with Pindex\n",
    "        # reject the hypothesis    \n",
    "        print('The samples were generated from different distributions')\n",
    "    else:\n",
    "        print('The samples were generated from the same distribution')\n",
    "else:\n",
    "    print('The samples were generated from the same distribution')"
   ]
  },
  {
   "cell_type": "markdown",
   "metadata": {},
   "source": [
    "### 6. Calculate the p-value"
   ]
  },
  {
   "cell_type": "code",
   "execution_count": 16,
   "metadata": {},
   "outputs": [
    {
     "name": "stdout",
     "output_type": "stream",
     "text": [
      "0.005889863475994748\n",
      "The samples were generated from different distributions\n"
     ]
    }
   ],
   "source": [
    "# M_nulls calculate the number of empty blocks. Let's calculate the probability of have M_nulls or more empty blocks\n",
    "# That is storaged in S_prob\n",
    "p_value = S_prob[M_nulls]\n",
    "print(p_value)\n",
    "\n",
    "# we fail to reject the null hypothesis if the p-value is greater or equal than alpha\n",
    "# we reject if the p-value is lower than alpha\n",
    "if p_value >= alpha:\n",
    "    print('The samples were generated from the same distribution')\n",
    "else:\n",
    "    print('The samples were generated from different distributions')\n"
   ]
  },
  {
   "cell_type": "code",
   "execution_count": null,
   "metadata": {},
   "outputs": [],
   "source": []
  }
 ],
 "metadata": {
  "kernelspec": {
   "display_name": "Python 3",
   "language": "python",
   "name": "python3"
  },
  "language_info": {
   "codemirror_mode": {
    "name": "ipython",
    "version": 3
   },
   "file_extension": ".py",
   "mimetype": "text/x-python",
   "name": "python",
   "nbconvert_exporter": "python",
   "pygments_lexer": "ipython3",
   "version": "3.8.3"
  }
 },
 "nbformat": 4,
 "nbformat_minor": 2
}
