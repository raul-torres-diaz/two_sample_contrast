{
 "cells": [
  {
   "cell_type": "markdown",
   "metadata": {},
   "source": [
    "## Construction of Blocks as in Example 3.2, Matthews & Taylor, with a Gaussian distribution"
   ]
  },
  {
   "cell_type": "markdown",
   "metadata": {},
   "source": [
    "### 0. Import libraries"
   ]
  },
  {
   "cell_type": "code",
   "execution_count": 30,
   "metadata": {},
   "outputs": [],
   "source": [
    "import numpy as np\n",
    "import matplotlib.pyplot as plt"
   ]
  },
  {
   "cell_type": "markdown",
   "metadata": {},
   "source": [
    "### 1. Data"
   ]
  },
  {
   "cell_type": "code",
   "execution_count": 31,
   "metadata": {},
   "outputs": [
    {
     "data": {
      "text/plain": [
       "Text(0.5, 1.0, 'Scatterplot of sample X')"
      ]
     },
     "execution_count": 31,
     "metadata": {},
     "output_type": "execute_result"
    },
    {
     "data": {
      "image/png": "[encoded data removed]",
      "text/plain": [
       "<Figure size 576x432 with 1 Axes>"
      ]
     },
     "metadata": {
      "needs_background": "light"
     },
     "output_type": "display_data"
    }
   ],
   "source": [
    "mean = np.array([5,5])\n",
    "cov = np.array([[1,0],[0,1]])\n",
    "N = 200\n",
    "X = np.random.multivariate_normal(mean, cov, N)\n",
    "\n",
    "plt.figure(figsize=(8,6))\n",
    "plt.plot(X[:,0], X[:,1], 'o', color = 'C1', label = 'Data', zorder = 1, ms = 5)\n",
    "\n",
    "plt.xlim(0,10)\n",
    "plt.ylim(0,10)\n",
    "\n",
    "plt.title('Scatterplot of sample X', fontsize=18)\n",
    "# plt.legend(fontsize=18)\n",
    "# plt.grid()"
   ]
  },
  {
   "cell_type": "markdown",
   "metadata": {},
   "source": [
    "### 2. Cutting functions"
   ]
  },
  {
   "cell_type": "code",
   "execution_count": 32,
   "metadata": {},
   "outputs": [],
   "source": [
    "# each function is arbitrary and takes one of the components of the corresponding (x1, x2)\n",
    "H = np.array([1,1,0,1,1,1,0,1,1,0,0,0,1,0,1,0,1,0,0,1])\n",
    "H = np.random.randint(0, 2, N)\n",
    "\n",
    "# define the permutaions (arbitrary)\n",
    "K = np.array([10, 5, 15, 3, 7, 12, 18, 2, 4, 6, 8, 11, 13, 16, 19, 1, 9, 14, 17, 20])\n",
    "K = np.arange(1,N+1)\n",
    "np.random.shuffle(K)\n",
    "\n",
    "# we are going to order K and H in a diadic way\n",
    "new_K = []\n",
    "new_H = H\n",
    "k_first = list(K)\n",
    "k_first.sort()\n",
    "K_List = [k_first]\n",
    "K_marker = [0]  # index that says if the corresponding K_List has been partitioned or not\n",
    "\n",
    "H_counter = []   # counter to asign values of H\n",
    "h = 0\n",
    "while sum(H_counter) <= len(new_H):\n",
    "    H_counter.append(2**h)\n",
    "    h = h+1\n",
    "    \n",
    "H_value = [0]*len(H_counter)    # values of H to asign\n",
    "for i in range(len(H_value)):\n",
    "    if i%2 == 1:\n",
    "        H_value[i] = 1\n",
    "\n",
    "for i in range(N):\n",
    "    # choose list to divide\n",
    "    for j in range(len(K_List)):\n",
    "        if K_marker[j] == 0 and len(K_List[j]) >= 1:\n",
    "            length_K = len(K_List[j])\n",
    "            # choose position of new_K in the list\n",
    "            K_position = (length_K+1)//2 -1   # the middle (even) or the first integer greater than the middle (odd)\n",
    "            new_K.append(K_List[j][K_position])\n",
    "            # split the existing array            \n",
    "            K_List.append(K_List[j][:K_position])\n",
    "            K_List.append(K_List[j][K_position+1:])\n",
    "            K_marker[j] = 1\n",
    "            K_marker.append(0)\n",
    "            K_marker.append(0)\n",
    "            break\n",
    "\n",
    "# for each element in K, asign the corresponding element in H\n",
    "\n",
    "for i in range(N):\n",
    "    for m in range(len(H_value)):\n",
    "        if i+1 <= sum(H_counter[:m+1]):\n",
    "            new_H[new_K[i]-1] = H_value[m]\n",
    "            break\n",
    "    \n",
    "H = np.array(new_H)\n",
    "K = np.array(new_K)\n",
    "# print(H)\n",
    "# print(K)\n"
   ]
  },
  {
   "cell_type": "markdown",
   "metadata": {},
   "source": [
    "### 3. Let's define a class to work with the blocks"
   ]
  },
  {
   "cell_type": "code",
   "execution_count": 33,
   "metadata": {},
   "outputs": [],
   "source": [
    "class block():\n",
    "    def __init__(self, vertices = None, elements = None, stats = None, parent = None, leftChild = None, rightChild = None):\n",
    "        self.vertices = vertices   # array with 2 bidimensional elemntes, corresponding to the vertices of the block\n",
    "                                   # vertices must be ordered starting from the left bottom vertix and finishing with the\n",
    "                                   # right top vertix\n",
    "                                   # the array must have two rows and two columns (bidimensional case)\n",
    "        self.elements = elements   # array with the points that belong to the block. Each row contains an element and each\n",
    "                                   # column is a dimension (in this case, bidimensional)\n",
    "        self.stats = np.sort(stats) # array with index of blocks\n",
    "        self.parent = parent       # parent of the block\n",
    "        self.leftChild = leftChild\n",
    "        self.rightChild = rightChild\n",
    "    \n",
    "    def plot(self, color = 'C0', lw = 1, size = 12, print_num = True):\n",
    "        plt.plot(self.vertices[:,0], np.ones(2)*self.vertices[0,1], color = color, lw = lw)\n",
    "        plt.plot(np.ones(2)*self.vertices[1,0], self.vertices[:,1], color = color, lw = lw)\n",
    "        plt.plot(self.vertices[:,0], np.ones(2)*self.vertices[1,1], color = color, lw = lw)\n",
    "        plt.plot(np.ones(2)*self.vertices[0,0], self.vertices[:,1], color = color, lw = lw)\n",
    "        xplot = (self.vertices[0,0]+self.vertices[1,0])/2\n",
    "        yplot = (self.vertices[0,1]+self.vertices[1,1])/2\n",
    "        if self.stats.size == 1 and print_num:\n",
    "            plt.text(xplot, yplot, str(self.stats[0]), fontsize = size)\n",
    "\n",
    "        \n",
    "    def split(self, axis, korder):\n",
    "        \"\"\"\n",
    "        This method split a Block and creates two child blocks, making the partirion on the korder th statistic\n",
    "        axis: indicates wheter it is along the X axis (vertical, 0) or the Y axis (horizontal, 1)\n",
    "        korder: is the order statistic to make the partition\n",
    "        \"\"\"\n",
    "        # select the dimension to sort\n",
    "        Xele = self.elements[:,axis]\n",
    "        # select the kth order statistic\n",
    "        Xorder = np.sort(Xele)\n",
    "        minStat = min(self.stats)\n",
    "        korder = korder - minStat\n",
    "        xstat = Xorder[korder]\n",
    "        # divide the stats\n",
    "        statsL = self.stats[:korder+1]\n",
    "        statsR = self.stats[korder+1:]\n",
    "        # create the elements and vertices of each block\n",
    "        Relements = np.empty((0, 2))\n",
    "        Lelements = np.empty((0, 2))\n",
    "        \n",
    "        # add elements to vertices and elements for each case\n",
    "        if axis == 0:\n",
    "            Lvertices = np.array([self.vertices[0,:], [xstat, self.vertices[1,1]]])\n",
    "            Rvertices = np.array([[xstat, self.vertices[0,1]], self.vertices[1,:]])\n",
    "            # now we move on the elements of the parent block and select wich ones go to the left and right child\n",
    "            for l in range(self.elements.shape[0]):\n",
    "                if Xele[l] <= xstat:\n",
    "                    Lelements = np.append(Lelements, [self.elements[l, :]], axis = 0)   # add the new element as a row\n",
    "                else:   # Xele > xstat\n",
    "                    Relements = np.append(Relements, [self.elements[l, :]], axis = 0)   # add the new element as a row\n",
    "        elif axis == 1:\n",
    "            Lvertices = np.array([self.vertices[0,:], [self.vertices[1,0], xstat]])\n",
    "            Rvertices = np.array([[self.vertices[0,0], xstat],self.vertices[1,:]])\n",
    "            # now we move on the elements of the parent block and select wich ones go to the left and right child\n",
    "            for l in range(self.elements.shape[0]):\n",
    "                if Xele[l] <= xstat:\n",
    "                    Lelements = np.append(Lelements, [self.elements[l, :]], axis = 0)   # add the new element as a row\n",
    "                else:   # Xele > xstat\n",
    "                    Relements = np.append(Relements, [self.elements[l, :]], axis = 0)   # add the new element as a row\n",
    "                \n",
    "        # create the childs of the block\n",
    "        Rchild = block(vertices = Rvertices, elements = Relements, stats = statsR, parent = self)  \n",
    "        # right side or up side (the greaters elements)\n",
    "        Lchild = block(vertices = Lvertices, elements = Lelements, stats = statsL, parent = self)   \n",
    "        # left side or down side (the smaller elements)\n",
    "        \n",
    "        # asociate the childs to the parten\n",
    "        self.rightChild = Rchild\n",
    "        self.leftChild = Lchild\n",
    "        # return the place where the partition was made\n",
    "        return xstat\n",
    "    \n",
    "    def belong(self, x):\n",
    "        nx = x.shape[0]\n",
    "        out = True\n",
    "        for i in range(nx):\n",
    "            out = out and self.vertices[0,i] < x[i] <= self.vertices[1,i]\n",
    "        return out\n",
    "        "
   ]
  },
  {
   "cell_type": "markdown",
   "metadata": {},
   "source": [
    "### 4. Partition: general case\n",
    "#### We proceed to use the block class to apply the partition in a iterative loop"
   ]
  },
  {
   "cell_type": "code",
   "execution_count": 34,
   "metadata": {},
   "outputs": [],
   "source": [
    "# create list with blocks\n",
    "First_Block = block(vertices = np.array([[0,0],[20,20]]), elements = X, stats = range(1,N+2))\n",
    "\n",
    "Blocks_List = [First_Block]\n",
    "\n",
    "for i in range(N):\n",
    "    #print(i)\n",
    "    # search the last block that has the K[i] stat\n",
    "    for j in range(len(Blocks_List)):\n",
    "        if K[i] in Blocks_List[j].stats and Blocks_List[j].leftChild == None:\n",
    "            Blocks_List[j].split(axis = H[K[i]-1], korder = K[i])\n",
    "            Blocks_List.extend([Blocks_List[j].leftChild, Blocks_List[j].rightChild])\n",
    "            break"
   ]
  },
  {
   "cell_type": "markdown",
   "metadata": {},
   "source": [
    "### Now we plot the finals blocks"
   ]
  },
  {
   "cell_type": "code",
   "execution_count": 54,
   "metadata": {},
   "outputs": [
    {
     "name": "stdout",
     "output_type": "stream",
     "text": [
      "[41]\n"
     ]
    },
    {
     "data": {
      "image/png": "[encoded data removed]",
      "text/plain": [
       "<Figure size 576x432 with 1 Axes>"
      ]
     },
     "metadata": {
      "needs_background": "light"
     },
     "output_type": "display_data"
    }
   ],
   "source": [
    "# generate Y data\n",
    "M = 200\n",
    "Y = np.random.multivariate_normal(1.5*mean, cov, M)  # let's use the same distribution\n",
    "\n",
    "# plot\n",
    "fig = plt.figure(figsize=(8,6))\n",
    "# Bloque.plot(color = 'g')\n",
    "plt.plot(X[:,0], X[:,1], 'o', color = 'C1')\n",
    "plt.plot(Y[:,0], Y[:,1], 'o', color = 'C2')\n",
    "\n",
    "plt.xlim(0,10)\n",
    "plt.ylim(0,10)\n",
    "\n",
    "# create list of final blocks\n",
    "Blocks_Final = []\n",
    "\n",
    "for j in range(len(Blocks_List)):\n",
    "    if Blocks_List[j].leftChild == None:\n",
    "        Blocks_Final.extend([Blocks_List[j]])\n",
    "        Blocks_List[j].plot(print_num = False)\n",
    "        \n",
    "print(Blocks_Final[12].stats)"
   ]
  },
  {
   "cell_type": "markdown",
   "metadata": {},
   "source": [
    "### 5. Test if both data come from the same distribution"
   ]
  },
  {
   "cell_type": "code",
   "execution_count": 55,
   "metadata": {},
   "outputs": [
    {
     "name": "stdout",
     "output_type": "stream",
     "text": [
      "[103]\n"
     ]
    }
   ],
   "source": [
    "# order the final blocks, so in the list of blocks they will be on the order corresponding to their statistics\n",
    "\n",
    "Blocks_Order = []\n",
    "N_Blocks = len(Blocks_Final)\n",
    "Assigned_Blocks = 0\n",
    "i = 0\n",
    "while Assigned_Blocks < N_Blocks:\n",
    "    if Blocks_Final[int(i%N_Blocks)].stats[0] == Assigned_Blocks+1:\n",
    "        Blocks_Order.extend([Blocks_Final[i%N_Blocks]])\n",
    "        Assigned_Blocks = Assigned_Blocks + 1\n",
    "    i = i + 1  # search in another block\n",
    "    \n",
    "print(Blocks_Order[102].stats)"
   ]
  },
  {
   "cell_type": "markdown",
   "metadata": {},
   "source": [
    "#### Counting number of samples from Y that fall on each block"
   ]
  },
  {
   "cell_type": "code",
   "execution_count": 56,
   "metadata": {},
   "outputs": [
    {
     "name": "stdout",
     "output_type": "stream",
     "text": [
      "[  0.   0.   0.   0.   0.   0.   0.   0.   0.   0.   0.   0.   0.   0.\n",
      "   0.   0.   0.   0.   0.   0.   0.   0.   0.   0.   0.   0.   0.   0.\n",
      "   0.   0.   0.   0.   0.   0.   0.   0.   0.   0.   0.   0.   0.   0.\n",
      "   0.   0.   0.   0.   0.   0.   0.   0.   0.   0.   0.   0.   0.   0.\n",
      "   0.   0.   0.   0.   0.   0.   0.   0.   0.   0.   0.   0.   0.   0.\n",
      "   0.   0.   0.   0.   0.   0.   0.   0.   0.   0.   0.   0.   0.   0.\n",
      "   0.   0.   0.   0.   0.   0.   0.   0.   0.   0.   0.   0.   0.   0.\n",
      "   0.   2.   0.   0.   0.   0.   0.   0.   0.   0.   0.   0.   0.   0.\n",
      "   0.   0.   0.   0.   0.   0.   0.   0.   0.   0.   0.   0.   0.   0.\n",
      "   0.   0.   0.   0.   0.   0.   0.   0.   0.   0.   0.   0.   0.   0.\n",
      "   0.   0.   0.   0.   0.   0.   0.   0.   0.   0.   0.   0.   0.   0.\n",
      "   0.   0.   0.   0.   0.   0.   0.   0.   0.   0.   0.   0.   0.   2.\n",
      "   0.   0.   0.   0.   0.   0.   1.   0.   0.   0.   0.   0.   0.   0.\n",
      "   0.   0.   0.   1.   1.   3.   0.   1.   0.   2.   0.   4.   0.   0.\n",
      "   3.   0.   5.  33. 142.]\n",
      "200\n",
      "[]\n"
     ]
    }
   ],
   "source": [
    "Y_copy = Y   # copy Y to eliminate the elements already assigned to a block\n",
    "Ma = np.zeros(len(Blocks_Order))  # \n",
    "\n",
    "# calculate the values of m_{alpha} -> esto basta para hacer el test\n",
    "for k in range(len(Blocks_Order)):\n",
    "    i = 0\n",
    "    while i < Y_copy.shape[0]:   # count the elements that belong to the k-th block\n",
    "        if Blocks_Order[k].belong(Y_copy[i,:]):\n",
    "            Ma[k] = Ma[k] + 1\n",
    "            Y_copy = np.delete(Y_copy, i, axis = 0)\n",
    "            i = i - 1\n",
    "        i = i + 1\n",
    "print(Ma)\n",
    "print(Y.shape[0])\n",
    "print(Y_copy)"
   ]
  },
  {
   "cell_type": "code",
   "execution_count": 57,
   "metadata": {},
   "outputs": [
    {
     "name": "stdout",
     "output_type": "stream",
     "text": [
      "0.9999999999999999\n"
     ]
    },
    {
     "data": {
      "image/png": "[encoded data removed]",
      "text/plain": [
       "<Figure size 576x432 with 1 Axes>"
      ]
     },
     "metadata": {
      "needs_background": "light"
     },
     "output_type": "display_data"
    }
   ],
   "source": [
    "# let's calculate the S distribution, under H0\n",
    "import operator as op\n",
    "from functools import reduce\n",
    "\n",
    "def ncr(n, r):\n",
    "    r = min(r, n-r)\n",
    "    numer = reduce(op.mul, range(n, n-r, -1), 1)\n",
    "    denom = reduce(op.mul, range(1, r+1), 1)\n",
    "    return numer / denom\n",
    "\n",
    "def prob_M_null(s, N, M):\n",
    "    \"\"\"\n",
    "    Calculate probabilitie that exactly s of the ma's are 0, under H0\n",
    "    N is the size of data that defined the blocks\n",
    "    M is the size of new data that is being compared\n",
    "    \"\"\"\n",
    "    num = ncr(N+1, s)*ncr(M-1, N-s)\n",
    "    den = ncr(M+N, N)\n",
    "    return num/den\n",
    "\n",
    "s_prob = np.zeros(N+1)  # there are N + 1 blocks\n",
    "\n",
    "if N >= M-1:\n",
    "    for s in range(N-M+1, N+1):\n",
    "        s_prob[s] = prob_M_null(s, N, M)\n",
    "else:\n",
    "    for s in range(0, N+1):\n",
    "        s_prob[s] = prob_M_null(s, N, M)\n",
    "        \n",
    "# plot\n",
    "fig = plt.figure(figsize=(8,6))\n",
    "plt.plot(range(0, N+1), s_prob, 'o-', color = 'C0', ms = 5)\n",
    "\n",
    "# plt.xlim(0,15)\n",
    "# plt.ylim(0,1)\n",
    "\n",
    "print(sum(s_prob))"
   ]
  },
  {
   "cell_type": "code",
   "execution_count": 58,
   "metadata": {},
   "outputs": [
    {
     "name": "stdout",
     "output_type": "stream",
     "text": [
      "109 0.03586259650134305\n"
     ]
    },
    {
     "data": {
      "image/png": "[encoded data removed]",
      "text/plain": [
       "<Figure size 576x432 with 1 Axes>"
      ]
     },
     "metadata": {
      "needs_background": "light"
     },
     "output_type": "display_data"
    }
   ],
   "source": [
    "# let's calculate the cumulative distribution, under H0\n",
    "S_prob = np.zeros(N+1)\n",
    "for s in range(N+1):\n",
    "    S_prob[s] = 1-sum(s_prob[0:s+1])\n",
    "    \n",
    "fig = plt.figure(figsize=(8,6))\n",
    "plt.plot(range(0, N+1), S_prob, 'o-', color = 'C0', ms = 5)\n",
    "plt.title('Probability that the number of empty blocks is at least S')\n",
    "plt.xlabel('S')\n",
    "\n",
    "# find the element with significance level closer to epsi (probability of error)\n",
    "epsi = 0.05\n",
    "index = (np.abs(S_prob-epsi)).argmin()\n",
    "if S_prob[index] > epsi:  # the condifence must be at least 1-epsi\n",
    "    index = index+1\n",
    "print(index, S_prob[index])"
   ]
  },
  {
   "cell_type": "code",
   "execution_count": 59,
   "metadata": {},
   "outputs": [
    {
     "name": "stdout",
     "output_type": "stream",
     "text": [
      "188\n",
      "The samples were generated from different distributions\n"
     ]
    }
   ],
   "source": [
    "# finally count the null elements\n",
    "M_nulls = np.count_nonzero(Ma==0)\n",
    "print(M_nulls)\n",
    "if M_nulls < index:\n",
    "    print('The samples were generated from the same distribution')\n",
    "else:\n",
    "    print('The samples were generated from different distributions')"
   ]
  },
  {
   "cell_type": "code",
   "execution_count": null,
   "metadata": {},
   "outputs": [],
   "source": []
  }
 ],
 "metadata": {
  "kernelspec": {
   "display_name": "Python 3",
   "language": "python",
   "name": "python3"
  },
  "language_info": {
   "codemirror_mode": {
    "name": "ipython",
    "version": 3
   },
   "file_extension": ".py",
   "mimetype": "text/x-python",
   "name": "python",
   "nbconvert_exporter": "python",
   "pygments_lexer": "ipython3",
   "version": "3.8.3"
  }
 },
 "nbformat": 4,
 "nbformat_minor": 2
}
