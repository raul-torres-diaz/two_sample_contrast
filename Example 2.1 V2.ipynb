{
 "cells": [
  {
   "cell_type": "markdown",
   "metadata": {},
   "source": [
    "## Contruction of Blocks in Example 2.1, Matthews & Taylor"
   ]
  },
  {
   "cell_type": "markdown",
   "metadata": {},
   "source": [
    "### 0. Import libraries"
   ]
  },
  {
   "cell_type": "code",
   "execution_count": 2,
   "metadata": {},
   "outputs": [],
   "source": [
    "import numpy as np\n",
    "import matplotlib.pyplot as plt"
   ]
  },
  {
   "cell_type": "markdown",
   "metadata": {},
   "source": [
    "### 1. Data"
   ]
  },
  {
   "cell_type": "code",
   "execution_count": 56,
   "metadata": {},
   "outputs": [
    {
     "name": "stdout",
     "output_type": "stream",
     "text": [
      "20\n"
     ]
    },
    {
     "data": {
      "text/plain": [
       "Text(0.5, 1.0, 'Scatterplot of sample X')"
      ]
     },
     "execution_count": 56,
     "metadata": {},
     "output_type": "execute_result"
    },
    {
     "data": {
      "image/png": "[encoded data removed]",
      "text/plain": [
       "<Figure size 576x288 with 1 Axes>"
      ]
     },
     "metadata": {
      "needs_background": "light"
     },
     "output_type": "display_data"
    }
   ],
   "source": [
    "X = np.array([[4.91, 2.16], [6.05, 5.54], [3.48, 1.35], [8.09, 0.18], [2.53, 3.49],\n",
    "             [1.62, 2.46], [8.37, 2.29], [3.17, 6.27], [6.02, 4.51], [8.50, 4.65],\n",
    "             [4.21, 5.93], [0.15, 5.99], [9.31, 3.77], [4.10, 0.45], [5.83, 2.42],\n",
    "             [6.00, 0.27], [3.30, 8.93], [4.38, 7.81], [4.93, 6.64], [1.22, 1.54]])\n",
    "\n",
    "X = np.append(X, np.zeros((X.shape[0],1)), axis = 1)\n",
    "\n",
    "N = X.shape[0]\n",
    "# N = N[0]\n",
    "print(N)\n",
    "\n",
    "plt.figure(figsize=(8,4))\n",
    "plt.plot(X[:,0], X[:,1], 'o', label = 'Data', zorder = 1, ms = 5)\n",
    "\n",
    "#Etiquetas de los ejes\n",
    "# plt.xlabel('Estado x', fontsize=18)\n",
    "# plt.ylabel('fx|i(x)', fontsize=18)\n",
    "\n",
    "plt.xlim(0,10)\n",
    "plt.ylim(0,10)\n",
    "\n",
    "plt.title('Scatterplot of sample X', fontsize=18)\n",
    "# plt.legend(fontsize=18)\n",
    "# plt.grid()"
   ]
  },
  {
   "cell_type": "markdown",
   "metadata": {},
   "source": [
    "### 2. Cutting functions"
   ]
  },
  {
   "cell_type": "code",
   "execution_count": 57,
   "metadata": {},
   "outputs": [
    {
     "name": "stdout",
     "output_type": "stream",
     "text": [
      "20\n",
      "[10  5 15]\n"
     ]
    }
   ],
   "source": [
    "# each function is arbitrary and takes one of the components of the corresponding (x1, x2)\n",
    "H = np.array([1,1,0,1,1,1,0,1,1,0,0,0,1,0,1,0,1,0,0,1])\n",
    "print(H.shape[0])\n",
    "# define the permutaions (arbitrary)\n",
    "K = np.array([10, 5, 15, 3, 7, 12, 18, 2, 4, 6, 8, 11, 13, 16, 19, 1, 9, 14, 17, 20])\n",
    "print(K[:3])\n"
   ]
  },
  {
   "cell_type": "markdown",
   "metadata": {},
   "source": [
    "### 3. Partition: Base Case"
   ]
  },
  {
   "cell_type": "code",
   "execution_count": 136,
   "metadata": {},
   "outputs": [
    {
     "name": "stdout",
     "output_type": "stream",
     "text": [
      "[0.15 1.22 1.62 2.53 3.17 3.3  3.48 4.1  4.21 4.38 4.91 4.93 5.83 6.\n",
      " 6.02 6.05 8.09 8.37 8.5  9.31]\n",
      "4.38\n",
      "[10  5 15  3  7 12 18  2  4  6  8 11 13 16 19  1  9 14 17 20]\n",
      "16\n"
     ]
    }
   ],
   "source": [
    "i = 0\n",
    "# index of P to work with\n",
    "Kindex = K[i]-1   # substract 1 to work in python index\n",
    "# select cutting function\n",
    "Hfun = H[Kindex]\n",
    "# select the elements to sort\n",
    "Xele = X[:, Hfun]\n",
    "# select the Kindex th statistic\n",
    "Xorder = np.sort(Xele)\n",
    "print(Xorder)\n",
    "xstat = Xorder[Kindex]\n",
    "print(xstat)\n",
    "\n",
    "\n",
    "TestE = range(4,10)\n",
    "print(K)\n",
    "print(list(K).index(9))"
   ]
  },
  {
   "cell_type": "code",
   "execution_count": 59,
   "metadata": {},
   "outputs": [
    {
     "data": {
      "text/plain": [
       "Text(0.5, 1.0, 'Scatterplot of sample X')"
      ]
     },
     "execution_count": 59,
     "metadata": {},
     "output_type": "execute_result"
    },
    {
     "data": {
      "image/png": "[encoded data removed]",
      "text/plain": [
       "<Figure size 576x288 with 1 Axes>"
      ]
     },
     "metadata": {
      "needs_background": "light"
     },
     "output_type": "display_data"
    }
   ],
   "source": [
    "# plot\n",
    "fig = plt.figure(figsize=(8,4))\n",
    "plt.plot(X[:,0], X[:,1], 'o', label = 'Data', zorder = 1, ms = 5)\n",
    "plt.plot(xstat*np.ones(2), np.array([0,10]), label = 'Partition', lw = 1)\n",
    "\n",
    "#Etiquetas de los ejes\n",
    "# plt.xlabel('Estado x', fontsize=18)\n",
    "# plt.ylabel('fx|i(x)', fontsize=18)\n",
    "\n",
    "plt.xlim(0,10)\n",
    "plt.ylim(0,10)\n",
    "\n",
    "plt.title('Scatterplot of sample X', fontsize=18)\n",
    "# plt.legend(fontsize=18)\n",
    "# plt.grid()\n"
   ]
  },
  {
   "cell_type": "markdown",
   "metadata": {},
   "source": [
    "#### Let's define a class to work with the blocks"
   ]
  },
  {
   "cell_type": "code",
   "execution_count": 115,
   "metadata": {},
   "outputs": [],
   "source": [
    "class block():\n",
    "    def __init__(self, vertices = None, elements = None, stats = None, parent = None, leftChild = None, rightChild = None):\n",
    "        self.vertices = vertices   # array with 2 bidimensional elemntes, corresponding to the vertices of the block\n",
    "                                   # vertices must be ordered starting from the left bottom vertix and finishin with the\n",
    "                                   # right top vertix\n",
    "                                   # the array must have two rows and two columns (bidimensional case)\n",
    "        self.elements = elements   # array with the points that belong to the block. Each row contains an element and each\n",
    "                                   # column is a dimension (in this case, bidimensional)\n",
    "                                   # the third column is 0 if that element has been used to make a partition previusly, and\n",
    "                                   # is 1 if not\n",
    "        self.stats = np.sort(stats) # array with index of blocks\n",
    "        self.parent = parent       # parent of the block\n",
    "        self.leftChild = leftChild\n",
    "        self.rightChild = rightChild\n",
    "    \n",
    "    def plot(self, color = 'C0', lw = 1):\n",
    "        plt.plot(self.vertices[:,0], np.ones(2)*self.vertices[0,1], color = color, lw = lw)\n",
    "        plt.plot(np.ones(2)*self.vertices[1,0], self.vertices[:,1], color = color, lw = lw)\n",
    "        plt.plot(self.vertices[:,0], np.ones(2)*self.vertices[1,1], color = color, lw = lw)\n",
    "        plt.plot(np.ones(2)*self.vertices[0,0], self.vertices[:,1], color = color, lw = lw)\n",
    "        \n",
    "    def split(self, axis, korder):\n",
    "        \"\"\"\n",
    "        axis indicates wheter it is along the X axis (vertical, 0) or the Y axis (horizontal, 1)\n",
    "        korder is the order statistic to make the partition -> in python would be korder - 1\n",
    "        \"\"\"\n",
    "        # select the dimension to sort\n",
    "        Xele = self.elements[:,axis]\n",
    "        # select the kth order statistic\n",
    "        Xorder = np.sort(Xele)\n",
    "        minStat = min(self.stats)\n",
    "        korder = korder - minStat\n",
    "        # find the first element which has not been used to use it now\n",
    "        for j in range(self.elements.shape[0]-korder):\n",
    "            find = False    # variable to break\n",
    "            for i in range(self.elements.shape[0]):\n",
    "                if self.elements[i,axis] == Xorder[korder] and self.elements[i,2] == 0:\n",
    "                    # if satisfies this two condition, then we select it\n",
    "                    xstat = Xorder[korder]\n",
    "                    self.elements[i,2] = 1\n",
    "                    find = True\n",
    "                    break    # stop the searching (there should be one solution)\n",
    "            if find:   # break the loop if we have already find the desired value\n",
    "                break\n",
    "            # if no one satisfies the condition, search the next korder\n",
    "            korder = korder + 1\n",
    "        # divide the stats\n",
    "        statsL = self.stats[:korder+1]\n",
    "        statsR = self.stats[korder+1:]\n",
    "        # create the elements and vertices of each block\n",
    "        Relements = np.empty((0, 3))\n",
    "        Lelements = np.empty((0, 3))\n",
    "        \n",
    "        # add elements to vertices and elements for each case\n",
    "        if axis == 0:\n",
    "            Lvertices = np.array([self.vertices[0,:], [xstat, self.vertices[1,1]]])\n",
    "            Rvertices = np.array([[xstat, self.vertices[0,1]], self.vertices[1,:]])\n",
    "            # now we move on the elements of the parent block and select wich ones go to the left and right child\n",
    "            for l in range(self.elements.shape[0]):\n",
    "                if Xele[l] <= xstat:\n",
    "                    Lelements = np.append(Lelements, [self.elements[l, :]], axis = 0)   # add the new element as a row\n",
    "                else:   # Xele > xstat\n",
    "                    Relements = np.append(Relements, [self.elements[l, :]], axis = 0)   # add the new element as a row\n",
    "        elif axis == 1:\n",
    "            Lvertices = np.array([self.vertices[0,:], [self.vertices[1,0], xstat]])\n",
    "            Rvertices = np.array([[self.vertices[0,0], xstat],self.vertices[1,:]])\n",
    "            # now we move on the elements of the parent block and select wich ones go to the left and right child\n",
    "            for l in range(self.elements.shape[0]):\n",
    "                if Xele[l] <= xstat:\n",
    "                    Lelements = np.append(Lelements, [self.elements[l, :]], axis = 0)   # add the new element as a row\n",
    "                else:   # Xele > xstat\n",
    "                    Relements = np.append(Relements, [self.elements[l, :]], axis = 0)   # add the new element as a row\n",
    "                \n",
    "        # create the childs of the block\n",
    "        Rchild = block(vertices = Rvertices, elements = Relements, stats = statsR, parent = self)  \n",
    "        # right side or up side (the greaters elements)\n",
    "        Lchild = block(vertices = Lvertices, elements = Lelements, stats = statsL, parent = self)   \n",
    "        # left side or down side (the smaller elements)\n",
    "        \n",
    "        # asociate the childs to the parten\n",
    "        self.rightChild = Rchild\n",
    "        self.leftChild = Lchild\n",
    "        # return the place where the partition was made\n",
    "        return korder + minStat\n",
    "        \n",
    "        "
   ]
  },
  {
   "cell_type": "code",
   "execution_count": 116,
   "metadata": {},
   "outputs": [
    {
     "name": "stdout",
     "output_type": "stream",
     "text": [
      "[[1.  1.  0. ]\n",
      " [2.  3.  1. ]\n",
      " [4.  3.5 0. ]\n",
      " [3.  2.  0. ]\n",
      " [2.5 1.5 0. ]]\n",
      "8\n",
      "[4 5 6 7 8]\n",
      "[9]\n",
      "[[1.  1.  0. ]\n",
      " [2.  3.  1. ]\n",
      " [4.  3.5 1. ]\n",
      " [3.  2.  0. ]\n",
      " [2.5 1.5 0. ]]\n",
      "[]\n",
      "[[0.  0. ]\n",
      " [5.  3.5]]\n",
      "[[0.  3.5]\n",
      " [5.  4. ]]\n"
     ]
    },
    {
     "data": {
      "image/png": "[encoded data removed]",
      "text/plain": [
       "<Figure size 576x288 with 1 Axes>"
      ]
     },
     "metadata": {
      "needs_background": "light"
     },
     "output_type": "display_data"
    }
   ],
   "source": [
    "# test the class\n",
    "Vertix = np.array([[0,0], [5,4]])\n",
    "Elements = np.array([[1,1], [2,3], [4,3.5], [3,2],[2.5,1.5]])\n",
    "Zrros = np.array([[0],[1],[0],[0],[0]])\n",
    "Elements = np.append(Elements, Zrros , axis = 1)\n",
    "print(Elements)\n",
    "stats = range(1+3, Elements.shape[0]+2+3)\n",
    "Bloque = block(vertices = Vertix, elements = Elements, stats = stats)\n",
    "\n",
    "fig = plt.figure(figsize=(8,4))\n",
    "# Bloque.plot(color = 'g')\n",
    "plt.plot(Elements[:,0], Elements[:,1], 'o')\n",
    "\n",
    "print(Bloque.split(axis = 1, korder = 7))\n",
    "print(Bloque.leftChild.stats)\n",
    "print(Bloque.rightChild.stats)\n",
    "print(Bloque.leftChild.elements)\n",
    "print(Bloque.rightChild.elements)\n",
    "print(Bloque.leftChild.vertices)\n",
    "print(Bloque.rightChild.vertices)\n",
    "\n",
    "Bloque.leftChild.plot()\n",
    "Bloque.rightChild.plot()\n"
   ]
  },
  {
   "cell_type": "markdown",
   "metadata": {},
   "source": [
    "### 4. Partition: general case\n",
    "#### We proceed to use the block class to apply the partition in a iterative loop"
   ]
  },
  {
   "cell_type": "code",
   "execution_count": 156,
   "metadata": {},
   "outputs": [
    {
     "name": "stdout",
     "output_type": "stream",
     "text": [
      "[[4.91 2.16 0.  ]\n",
      " [6.05 5.54 0.  ]\n",
      " [3.48 1.35 0.  ]\n",
      " [8.09 0.18 0.  ]\n",
      " [2.53 3.49 0.  ]\n",
      " [1.62 2.46 0.  ]\n",
      " [8.37 2.29 0.  ]\n",
      " [3.17 6.27 0.  ]\n",
      " [6.02 4.51 0.  ]\n",
      " [8.5  4.65 0.  ]\n",
      " [4.21 5.93 0.  ]\n",
      " [0.15 5.99 0.  ]\n",
      " [9.31 3.77 0.  ]\n",
      " [4.1  0.45 0.  ]\n",
      " [5.83 2.42 0.  ]\n",
      " [6.   0.27 0.  ]\n",
      " [3.3  8.93 0.  ]\n",
      " [4.38 7.81 0.  ]\n",
      " [4.93 6.64 0.  ]\n",
      " [1.22 1.54 0.  ]]\n",
      "0\n",
      "[ 1  2  3  4  5  6  7  8  9 10]\n",
      "[11 12 13 14 15 16 17 18 19 20 21]\n",
      "1\n",
      "[1 2 3 4 5]\n",
      "[ 6  7  8  9 10]\n",
      "2\n",
      "[11 12 13 14 15]\n",
      "[16 17 18 19 20 21]\n",
      "3\n",
      "[1 2 3 4]\n",
      "[5]\n",
      "4\n",
      "[6 7]\n",
      "[ 8  9 10]\n",
      "5\n",
      "[11 12 13]\n",
      "[14 15]\n",
      "6\n",
      "[16 17 18]\n",
      "[19 20 21]\n",
      "7\n",
      "[1 2]\n",
      "[3 4]\n",
      "8\n",
      "[3]\n",
      "[4]\n",
      "9\n",
      "[6]\n",
      "[7]\n",
      "10\n",
      "[8]\n",
      "[ 9 10]\n",
      "11\n",
      "[11]\n",
      "[12 13]\n",
      "[10  5 15  4  7 13 18  2  3  6  8 11 12 16 19  1  9 14 17 20]\n"
     ]
    }
   ],
   "source": [
    "# create list with blocks\n",
    "X[:,2] = np.zeros(N)\n",
    "K = np.array([10, 5, 15, 3, 7, 12, 18, 2, 4, 6, 8, 11, 13, 16, 19, 1, 9, 14, 17, 20])\n",
    "print(X)\n",
    "First_Block = block(vertices = np.array([[0,0],[10,10]]), elements = X, stats = range(1,N+2))\n",
    "\n",
    "Blocks_List = [First_Block]\n",
    "\n",
    "for i in range(12):\n",
    "    print(i)\n",
    "    # search the last block that has the K[i] stat\n",
    "    #print(K[i])\n",
    "    for j in range(len(Blocks_List)):\n",
    "        if K[i] in Blocks_List[j].stats and Blocks_List[j].leftChild == None:\n",
    "            #print(H[K[i]-1])\n",
    "            korder_new = Blocks_List[j].split(axis = H[K[i]-1], korder = K[i])\n",
    "            if korder_new != K[i]:\n",
    "                ind_new = list(K).index(korder_new)\n",
    "                K[ind_new] = K[i]\n",
    "                K[i] = korder_new\n",
    "            Blocks_List.extend([Blocks_List[j].leftChild, Blocks_List[j].rightChild])\n",
    "            print(Blocks_List[j].leftChild.stats)\n",
    "            print(Blocks_List[j].rightChild.stats)\n",
    "            #print(Blocks_List[j].leftChild.elements)\n",
    "            #print(Blocks_List[j].rightChild.elements)\n",
    "            break\n",
    "            \n",
    "print(K)"
   ]
  },
  {
   "cell_type": "markdown",
   "metadata": {},
   "source": [
    "### Now we plot the finals blocks"
   ]
  },
  {
   "cell_type": "code",
   "execution_count": 154,
   "metadata": {},
   "outputs": [
    {
     "name": "stdout",
     "output_type": "stream",
     "text": [
      "[5]\n",
      "[14 15]\n",
      "[16 17 18]\n",
      "[19 20 21]\n",
      "[1 2]\n",
      "[3]\n",
      "[4]\n",
      "[6]\n",
      "[7]\n",
      "[8]\n",
      "[ 9 10]\n",
      "[11]\n",
      "[12 13]\n"
     ]
    },
    {
     "data": {
      "image/png": "[encoded data removed]",
      "text/plain": [
       "<Figure size 432x288 with 1 Axes>"
      ]
     },
     "metadata": {
      "needs_background": "light"
     },
     "output_type": "display_data"
    }
   ],
   "source": [
    "# plot\n",
    "fig = plt.figure(figsize=(6,4))\n",
    "# Bloque.plot(color = 'g')\n",
    "plt.plot(X[:,0], X[:,1], 'o')\n",
    "\n",
    "plt.xlim(0,10)\n",
    "plt.ylim(0,10)\n",
    "\n",
    "for j in range(len(Blocks_List)):\n",
    "    if Blocks_List[j].leftChild == None:\n",
    "        Blocks_List[j].plot()\n",
    "        print(Blocks_List[j].stats)\n",
    "        \n",
    "# plt.plot([0,10], [0,0], color = 'white', lw = 1)\n",
    "# plt.plot([0,10], [10,10], color = 'white', lw = 1)\n",
    "# plt.plot([0,0], [0,10], color = 'white', lw = 1)\n",
    "# plt.plot([10,10], [0,10], color = 'white', lw = 1)"
   ]
  },
  {
   "cell_type": "code",
   "execution_count": null,
   "metadata": {},
   "outputs": [],
   "source": [
    "# ni haciendolo a mano coincide"
   ]
  }
 ],
 "metadata": {
  "kernelspec": {
   "display_name": "Python 3",
   "language": "python",
   "name": "python3"
  },
  "language_info": {
   "codemirror_mode": {
    "name": "ipython",
    "version": 3
   },
   "file_extension": ".py",
   "mimetype": "text/x-python",
   "name": "python",
   "nbconvert_exporter": "python",
   "pygments_lexer": "ipython3",
   "version": "3.7.1"
  }
 },
 "nbformat": 4,
 "nbformat_minor": 2
}
