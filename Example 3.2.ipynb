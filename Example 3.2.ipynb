{
 "cells": [
  {
   "cell_type": "markdown",
   "metadata": {},
   "source": [
    "## Two Sample Test in Example 3.2, Matthews & Taylor"
   ]
  },
  {
   "cell_type": "markdown",
   "metadata": {},
   "source": [
    "### 0. Import libraries"
   ]
  },
  {
   "cell_type": "code",
   "execution_count": 1,
   "metadata": {},
   "outputs": [],
   "source": [
    "import numpy as np\n",
    "import matplotlib.pyplot as plt"
   ]
  },
  {
   "cell_type": "markdown",
   "metadata": {},
   "source": [
    "### 1. Data"
   ]
  },
  {
   "cell_type": "code",
   "execution_count": 2,
   "metadata": {},
   "outputs": [
    {
     "data": {
      "text/plain": [
       "Text(0.5, 1.0, 'Scatterplot of sample X')"
      ]
     },
     "execution_count": 2,
     "metadata": {},
     "output_type": "execute_result"
    },
    {
     "data": {
      "image/png": "[encoded data removed]",
      "text/plain": [
       "<Figure size 576x432 with 1 Axes>"
      ]
     },
     "metadata": {
      "needs_background": "light"
     },
     "output_type": "display_data"
    }
   ],
   "source": [
    "X = np.array([[4.91, 2.16], [6.05, 5.54], [3.48, 1.35], [8.09, 0.18], [2.53, 3.49],\n",
    "             [1.62, 2.46], [8.37, 2.29], [3.17, 6.27], [6.02, 4.51], [8.50, 4.65],\n",
    "             [4.21, 5.93], [0.15, 5.99], [9.31, 3.77], [4.10, 0.45], [5.83, 2.42],\n",
    "             [6.00, 0.27], [3.30, 8.93], [4.38, 7.81], [4.93, 6.64], [1.22, 1.54]])\n",
    "\n",
    "Y = np.array([[13.90, 2.13], [7.71, 6.89], [9.67, 6.20], [7.56, 0.90], [10.39, 2.43],\n",
    "             [13.47, 0.45], [14.55, 0.01], [7.46, 0.18], [11.25, 1.08], [13.00, 2.37],\n",
    "             [6.33, 4.44], [11.86, 0.83], [7.42, 2.31], [9.15, 3.94], [12.73, 6.12],\n",
    "             [6.58, 3.04], [7.34, 3.69], [8.12, 2.59], [7.79, 3.68], [5.65, 2.40]])\n",
    "\n",
    "# I have changed a data point because it was far away\n",
    "\n",
    "N = X.shape[0]\n",
    "M = Y.shape[0]\n",
    "\n",
    "plt.figure(figsize=(8,6))\n",
    "plt.plot(X[:,0], X[:,1], 'o', color = 'C1', label = 'Data X', zorder = 1, ms = 5)\n",
    "plt.plot(Y[:,0], Y[:,1], 'o', color = 'C2', label = 'Data Y', zorder = 1, ms = 5)\n",
    "\n",
    "\n",
    "plt.xlim(0,20)\n",
    "plt.ylim(0,10)\n",
    "\n",
    "plt.title('Scatterplot of sample X', fontsize=18)\n",
    "# plt.legend(fontsize=18)\n",
    "# plt.grid()"
   ]
  },
  {
   "cell_type": "markdown",
   "metadata": {},
   "source": [
    "### 2. Cutting functions: Class definition"
   ]
  },
  {
   "cell_type": "code",
   "execution_count": 3,
   "metadata": {},
   "outputs": [],
   "source": [
    "# each function is arbitrary and takes one of the components of the corresponding (x1, x2)\n",
    "H = np.array([1,1,0,1,1,1,0,1,1,0,0,0,1,0,1,0,1,0,0,1])\n",
    "# H = np.array([0,1,0,1,1,1,0,1,0,0,1,0,1,0,1,1,0,0,1,0])\n",
    "\n",
    "# define the permutaions (arbitrary)\n",
    "K = np.array([10, 5, 15, 3, 7, 12, 18, 2, 4, 6, 8, 11, 13, 16, 19, 1, 9, 14, 17, 20])\n",
    "\n",
    "# the class allow to define both cutting functions and permutations, in order to execute a bisection method or randomly\n",
    "class CPfunctions():\n",
    "    def __init__(self, \n",
    "                 Ndata, cut = None, perm = None):\n",
    "        self.N = Ndata   # size of the data\n",
    "    def permutation(self, random = False):\n",
    "        \"\"\"\n",
    "        Define the permutation index for a bisection method, or in a random fashion if random is True\n",
    "        \"\"\"\n",
    "        N = self.N\n",
    "        K = np.arange(1,N+1)\n",
    "        new_K = []\n",
    "        if random:\n",
    "            np.random.shuffle(K)\n",
    "            new_K = K\n",
    "        else:\n",
    "            k_first = list(K)\n",
    "            k_first.sort()\n",
    "            K_List = [k_first]\n",
    "            K_marker = [0]  # index that says if the corresponding K_List has been partitioned or not\n",
    "\n",
    "            for i in range(N):\n",
    "                # choose list to divide\n",
    "                for j in range(len(K_List)):\n",
    "                    if K_marker[j] == 0 and len(K_List[j]) >= 1:\n",
    "                        length_K = len(K_List[j])\n",
    "                        # choose position of new_K in the list\n",
    "                        K_position = (length_K+1)//2 -1   # the middle (even) or the first integer greater than the middle (odd)\n",
    "                        new_K.append(K_List[j][K_position])\n",
    "                        # split the existing array            \n",
    "                        K_List.append(K_List[j][:K_position])\n",
    "                        K_List.append(K_List[j][K_position+1:])\n",
    "                        K_marker[j] = 1\n",
    "                        K_marker.append(0)\n",
    "                        K_marker.append(0)\n",
    "                        # now add elements to H_new\n",
    "                        break\n",
    "                        \n",
    "        self.perm = np.array(new_K)\n",
    "        \n",
    "    def cutting(self, random = False):\n",
    "        N = self.N\n",
    "        H = np.random.randint(0, 2, N)\n",
    "        K = self.perm\n",
    "        new_H = H\n",
    "        if not random:            \n",
    "            H_counter = []   # counter to asign values of H\n",
    "            h = 0\n",
    "            while sum(H_counter) <= len(new_H):\n",
    "                H_counter.append(2**h)\n",
    "                h = h+1\n",
    "\n",
    "            H_value = [0]*len(H_counter)    # values of H to asign\n",
    "            for i in range(len(H_value)):\n",
    "                if i%2 == 1:\n",
    "                    H_value[i] = 1\n",
    "\n",
    "            # for each element in K, asign the corresponding element in H\n",
    "\n",
    "            for i in range(N):\n",
    "                for m in range(len(H_value)):\n",
    "                    if i+1 <= sum(H_counter[:m+1]):\n",
    "                        new_H[K[i]-1] = H_value[m]\n",
    "                        break\n",
    "                        \n",
    "        self.cut = np.array(new_H)\n"
   ]
  },
  {
   "cell_type": "code",
   "execution_count": 4,
   "metadata": {},
   "outputs": [
    {
     "name": "stdout",
     "output_type": "stream",
     "text": [
      "[10  5 15  2  7 12 18  1  3  6  8 11 13 16 19  4  9 14 17 20]\n",
      "[0 1 1 0 0 0 0 1 1 1 1 1 1 1 1 0 0 0 0 0]\n"
     ]
    }
   ],
   "source": [
    "Lists = CPfunctions(N)\n",
    "Lists.permutation()\n",
    "Lists.cutting()\n",
    "K = Lists.perm\n",
    "H = Lists.cut\n",
    "print(K)\n",
    "print(H[K-1])\n"
   ]
  },
  {
   "cell_type": "markdown",
   "metadata": {},
   "source": [
    "### 3. Partition: Class definition"
   ]
  },
  {
   "cell_type": "markdown",
   "metadata": {},
   "source": [
    "### Let's define a class to work with the blocks"
   ]
  },
  {
   "cell_type": "code",
   "execution_count": 5,
   "metadata": {},
   "outputs": [],
   "source": [
    "class block():\n",
    "    def __init__(self, \n",
    "                 vertices = None, \n",
    "                 elements = None, \n",
    "                 stats = None, \n",
    "                 parent = None, \n",
    "                 leftChild = None, \n",
    "                 rightChild = None, \n",
    "                 prefChild = None):\n",
    "        self.vertices = vertices   # array with 2 bidimensional elements, corresponding to the vertices of the block\n",
    "                                   # vertices must be ordered starting from the left bottom vertix and finishing with the\n",
    "                                   # right top vertix\n",
    "                                   # the array must have two rows and two columns (bidimensional case)\n",
    "        self.elements = elements   # array with the points that belong to the block. Each row contains an element and each\n",
    "                                   # column is a dimension (in this case, bidimensional)\n",
    "        self.stats = np.sort(stats) # array with index of blocks\n",
    "        self.parent = parent       # parent of the block\n",
    "        self.leftChild = leftChild\n",
    "        self.rightChild = rightChild\n",
    "        self.prefChild = prefChild\n",
    "    \n",
    "    def plot(self, color = 'C0', lw = 1, size = 12, print_num = True):\n",
    "        plt.plot(self.vertices[:,0], np.ones(2)*self.vertices[0,1], color = color, lw = lw)\n",
    "        plt.plot(np.ones(2)*self.vertices[1,0], self.vertices[:,1], color = color, lw = lw)\n",
    "        plt.plot(self.vertices[:,0], np.ones(2)*self.vertices[1,1], color = color, lw = lw)\n",
    "        plt.plot(np.ones(2)*self.vertices[0,0], self.vertices[:,1], color = color, lw = lw)\n",
    "        xplot = (self.vertices[0,0]+self.vertices[1,0])/2\n",
    "        yplot = (self.vertices[0,1]+self.vertices[1,1])/2\n",
    "        if self.stats.size == 1 and print_num:\n",
    "            plt.text(xplot, yplot, str(self.stats[0]), fontsize = size)\n",
    "\n",
    "        \n",
    "    def split(self, axis, korder):\n",
    "        \"\"\"\n",
    "        This method split a Block and creates two child blocks, making the partition on the korder th statistic\n",
    "        axis: indicates wheter it is along the X axis (vertical, 0) or the Y axis (horizontal, 1)\n",
    "        korder: is the order statistic to make the partition\n",
    "        \"\"\"\n",
    "        # select the dimension to sort\n",
    "        Xele = self.elements[:,axis]\n",
    "        # select the kth order statistic\n",
    "        Xorder = np.sort(Xele)\n",
    "        minStat = min(self.stats)\n",
    "        korder = korder - minStat\n",
    "        xstat = Xorder[korder]\n",
    "        # divide the stats\n",
    "        statsL = self.stats[:korder+1]\n",
    "        statsR = self.stats[korder+1:]\n",
    "        # create the elements and vertices of each block\n",
    "        Relements = np.empty((0, 2))\n",
    "        Lelements = np.empty((0, 2))\n",
    "        \n",
    "        # add elements to vertices and elements for each case\n",
    "        if axis == 0:\n",
    "            Lvertices = np.array([self.vertices[0,:], [xstat, self.vertices[1,1]]])\n",
    "            Rvertices = np.array([[xstat, self.vertices[0,1]], self.vertices[1,:]])\n",
    "            # now we move on the elements of the parent block and select wich ones go to the left and right child\n",
    "            for l in range(self.elements.shape[0]):\n",
    "                if Xele[l] < xstat:\n",
    "                    Lelements = np.append(Lelements, [self.elements[l, :]], axis = 0)   # add the new element as a row\n",
    "                elif Xele[l] > xstat:\n",
    "                    Relements = np.append(Relements, [self.elements[l, :]], axis = 0)   # add the new element as a row\n",
    "                else:\n",
    "                    Pchild = [self.elements[l,:]]  # chosen kth order \n",
    "        elif axis == 1:\n",
    "            Lvertices = np.array([self.vertices[0,:], [self.vertices[1,0], xstat]])\n",
    "            Rvertices = np.array([[self.vertices[0,0], xstat],self.vertices[1,:]])\n",
    "            # now we move on the elements of the parent block and select wich ones go to the left and right child\n",
    "            for l in range(self.elements.shape[0]):\n",
    "                if Xele[l] < xstat:\n",
    "                    Lelements = np.append(Lelements, [self.elements[l, :]], axis = 0)   # add the new element as a row\n",
    "                elif Xele[l] > xstat:\n",
    "                    Relements = np.append(Relements, [self.elements[l, :]], axis = 0)   # add the new element as a row\n",
    "                else:\n",
    "                    Pchild = [self.elements[l,:]]   # chosen kth order \n",
    "                \n",
    "        # create the childs of the block\n",
    "        Rchild = block(vertices = Rvertices, elements = Relements, stats = statsR, parent = self)  \n",
    "        # right side or up side (the greaters elements)\n",
    "        Lchild = block(vertices = Lvertices, elements = Lelements, stats = statsL, parent = self)   \n",
    "        # left side or down side (the smaller elements)\n",
    "        \n",
    "        # asociate the childs to the parten\n",
    "        self.rightChild = Rchild\n",
    "        self.leftChild = Lchild\n",
    "        self.prefChild = Pchild\n",
    "        # return the place where the partition was made\n",
    "        return xstat\n",
    "    \n",
    "    def belong(self, x):\n",
    "        nx = x.shape[0]\n",
    "        out = True\n",
    "        for i in range(nx):\n",
    "            out = out and self.vertices[0,i] < x[i] <= self.vertices[1,i]\n",
    "        return out\n",
    "        \n",
    "        "
   ]
  },
  {
   "cell_type": "code",
   "execution_count": 6,
   "metadata": {},
   "outputs": [
    {
     "name": "stdout",
     "output_type": "stream",
     "text": [
      "[4 5 6 7]\n",
      "[8]\n",
      "[[1.  1. ]\n",
      " [3.  2. ]\n",
      " [2.5 1.5]]\n",
      "[[4.  3.5]]\n",
      "[2. 3.]\n",
      "False\n"
     ]
    },
    {
     "data": {
      "image/png": "[encoded data removed]",
      "text/plain": [
       "<Figure size 576x288 with 1 Axes>"
      ]
     },
     "metadata": {
      "needs_background": "light"
     },
     "output_type": "display_data"
    }
   ],
   "source": [
    "# some test to the class\n",
    "Vertix = np.array([[0,0], [5,4]])\n",
    "Elements = np.array([[1,1], [2,3], [4,3.5], [3,2],[2.5,1.5]])\n",
    "stats = range(4, Elements.shape[0]+4)   # stats goes from 4 to 8\n",
    "Bloque = block(vertices = Vertix, elements = Elements, stats = stats)\n",
    "\n",
    "fig = plt.figure(figsize=(8,4))\n",
    "# Bloque.plot(color = 'g')\n",
    "plt.plot(Elements[:,0], Elements[:,1], 'o', color = 'C1')\n",
    "\n",
    "Bloque.split(axis = 1, korder = 7)\n",
    "BloqueL1 = Bloque.leftChild\n",
    "BloqueR1 = Bloque.rightChild\n",
    "print(BloqueL1.stats)\n",
    "print(BloqueR1.stats)\n",
    "print(BloqueL1.elements)\n",
    "print(BloqueR1.elements)\n",
    "print(Bloque.prefChild[0])\n",
    "\n",
    "BloqueL1.split(axis = 0, korder = 5)\n",
    "BloqueL11 = BloqueL1.leftChild\n",
    "BloqueR11 = BloqueL1.rightChild\n",
    "\n",
    "\n",
    "BloqueL1.plot()\n",
    "BloqueR1.plot()\n",
    "BloqueL11.plot()\n",
    "BloqueR11.plot()\n",
    "\n",
    "print(Bloque.belong(np.array([6,5])))"
   ]
  },
  {
   "cell_type": "markdown",
   "metadata": {},
   "source": [
    "### 4. Partition: general case\n",
    "### We proceed to use the block class to apply the partition in an iterative loop"
   ]
  },
  {
   "cell_type": "code",
   "execution_count": 7,
   "metadata": {},
   "outputs": [],
   "source": [
    "# create list with blocks\n",
    "First_Block = block(vertices = np.array([[0,0],[15,15]]), elements = X, stats = range(1,N+2))\n",
    "\n",
    "Blocks_List = [First_Block]\n",
    "\n",
    "step = 20\n",
    "\n",
    "for i in range(step):\n",
    "    # search the last block that has the K[i] stat\n",
    "    for j in range(len(Blocks_List)):\n",
    "        if K[i] in Blocks_List[j].stats and Blocks_List[j].leftChild == None:\n",
    "            Blocks_List[j].split(axis = H[K[i]-1], korder = K[i])\n",
    "            Blocks_List.extend([Blocks_List[j].leftChild, Blocks_List[j].rightChild])\n",
    "            break"
   ]
  },
  {
   "cell_type": "markdown",
   "metadata": {},
   "source": [
    "### Now we plot the finals blocks"
   ]
  },
  {
   "cell_type": "code",
   "execution_count": 8,
   "metadata": {},
   "outputs": [
    {
     "name": "stdout",
     "output_type": "stream",
     "text": [
      "Point [array([4.38, 7.81])] was selection 1 in iteration 1\n",
      "Point [array([2.53, 3.49])] was selection 2 in iteration 2\n",
      "Point [array([5.83, 2.42])] was selection 3 in iteration 3\n",
      "Point [array([1.62, 2.46])] was selection 4 in iteration 4\n",
      "Point [array([3.17, 6.27])] was selection 5 in iteration 5\n",
      "Point [array([6.  , 0.27])] was selection 6 in iteration 6\n",
      "Point [array([6.05, 5.54])] was selection 7 in iteration 7\n",
      "Point [array([1.22, 1.54])] was selection 8 in iteration 8\n",
      "Point [array([4.1 , 0.45])] was selection 9 in iteration 9\n",
      "Point [array([0.15, 5.99])] was selection 10 in iteration 10\n",
      "Point [array([4.21, 5.93])] was selection 11 in iteration 11\n",
      "Point [array([4.91, 2.16])] was selection 12 in iteration 12\n",
      "Point [array([8.09, 0.18])] was selection 13 in iteration 13\n",
      "Point [array([6.02, 4.51])] was selection 14 in iteration 14\n",
      "Point [array([9.31, 3.77])] was selection 15 in iteration 15\n",
      "Point [array([3.48, 1.35])] was selection 16 in iteration 19\n",
      "Point [array([3.3 , 8.93])] was selection 17 in iteration 23\n",
      "Point [array([8.37, 2.29])] was selection 18 in iteration 27\n",
      "Point [array([4.93, 6.64])] was selection 19 in iteration 29\n",
      "Point [array([8.5 , 4.65])] was selection 20 in iteration 31\n",
      "[5]\n"
     ]
    },
    {
     "data": {
      "image/png": "[encoded data removed]",
      "text/plain": [
       "<Figure size 576x432 with 1 Axes>"
      ]
     },
     "metadata": {
      "needs_background": "light"
     },
     "output_type": "display_data"
    }
   ],
   "source": [
    "# plot\n",
    "fig = plt.figure(figsize=(8,6))\n",
    "plt.plot(X[:,0], X[:,1], 'o', color = 'C1', ms = 7)\n",
    "\n",
    "plt.xlim(0,15)\n",
    "plt.ylim(0,15)\n",
    "\n",
    "# create list of final blocks\n",
    "Blocks_Final = []\n",
    "block_ref = list()\n",
    "\n",
    "for j in range(len(Blocks_List)):\n",
    "    if Blocks_List[j].leftChild == None:\n",
    "        Blocks_Final.extend([Blocks_List[j]])\n",
    "        Blocks_List[j].plot(print_num = True)\n",
    "        block_ref.append(Blocks_List[j].stats)\n",
    "        \n",
    "#fig.savefig('Figures (png)/Step'+str(step)+'b.png',        # nombre archivo\n",
    "#            format='png',        # formato\n",
    "#            bbox_inches='tight',  # elimina bordes vacios\n",
    "#           )\n",
    "\n",
    "# Defining the selection list\n",
    "cont = 1\n",
    "for i in range(len(Blocks_List)):\n",
    "    if Blocks_List[i].prefChild != None:\n",
    "        print('Point', Blocks_List[i].prefChild, 'was selection', cont, 'in iteration', i+1)\n",
    "        cont += 1\n",
    "\n",
    "\n",
    "plt.plot(Y[:,0], Y[:,1], 'o', color = 'C2', ms = 7)\n",
    "\n",
    "print(Blocks_Final[12].stats)"
   ]
  },
  {
   "cell_type": "markdown",
   "metadata": {},
   "source": [
    "### 5. Test if both data come from the same distribution"
   ]
  },
  {
   "cell_type": "code",
   "execution_count": 9,
   "metadata": {},
   "outputs": [
    {
     "name": "stdout",
     "output_type": "stream",
     "text": [
      "True\n"
     ]
    }
   ],
   "source": [
    "# order the final blocks, so in the list of blocks they will be on the order corresponding to their statistics\n",
    "\n",
    "Blocks_Order = []\n",
    "N_Blocks = len(Blocks_Final)\n",
    "Assigned_Blocks = 0\n",
    "i = 0\n",
    "while Assigned_Blocks < N_Blocks:\n",
    "    if Blocks_Final[int(i%N_Blocks)].stats[0] == Assigned_Blocks+1:\n",
    "        Blocks_Order.extend([Blocks_Final[i%N_Blocks]])\n",
    "        Assigned_Blocks = Assigned_Blocks + 1\n",
    "    i = i + 1  # search in another block\n",
    "      \n",
    "print(Blocks_Order[12].belong(np.array([14.55,0.01])))\n"
   ]
  },
  {
   "cell_type": "markdown",
   "metadata": {},
   "source": [
    "#### Counting number of samples from Y that fall on each block"
   ]
  },
  {
   "cell_type": "code",
   "execution_count": 10,
   "metadata": {},
   "outputs": [
    {
     "name": "stdout",
     "output_type": "stream",
     "text": [
      "[0. 0. 0. 0. 0. 0. 0. 0. 0. 0. 0. 1. 2. 2. 5. 0. 0. 0. 5. 2. 3.]\n",
      "20\n",
      "[]\n"
     ]
    }
   ],
   "source": [
    "Y_copy = Y   # copy Y to eliminate the elements already assigned to a block\n",
    "Ma = np.zeros(len(Blocks_Order))  # \n",
    "\n",
    "# calculate the values of m_{alpha} -> esto basta para hacer el test\n",
    "for k in range(len(Blocks_Order)):\n",
    "    i = 0\n",
    "    while i < Y_copy.shape[0]:   # count the elements that belong to the k-th block\n",
    "        if Blocks_Order[k].belong(Y_copy[i,:]):\n",
    "            Ma[k] = Ma[k] + 1\n",
    "            Y_copy = np.delete(Y_copy, i, axis = 0)\n",
    "            i = i - 1\n",
    "        i = i + 1\n",
    "print(Ma)\n",
    "print(Y.shape[0])\n",
    "print(Y_copy)\n"
   ]
  },
  {
   "cell_type": "code",
   "execution_count": 11,
   "metadata": {},
   "outputs": [
    {
     "name": "stdout",
     "output_type": "stream",
     "text": [
      "1.0\n",
      "[0.00000000e+00 1.52343336e-10 2.89452338e-08 1.64987832e-06\n",
      " 4.20718973e-05 5.72177803e-04 4.57742242e-03 2.28871121e-02\n",
      " 7.43831144e-02 1.61163414e-01 2.36373008e-01 2.36373008e-01\n",
      " 1.61163414e-01 7.43831144e-02 2.28871121e-02 4.57742242e-03\n",
      " 5.72177803e-04 4.20718973e-05 1.64987832e-06 2.89452338e-08\n",
      " 1.52343336e-10]\n"
     ]
    },
    {
     "data": {
      "image/png": "[encoded data removed]",
      "text/plain": [
       "<Figure size 576x432 with 1 Axes>"
      ]
     },
     "metadata": {
      "needs_background": "light"
     },
     "output_type": "display_data"
    }
   ],
   "source": [
    "# let's calculate the S distribution, under H0\n",
    "import operator as op\n",
    "from functools import reduce\n",
    "\n",
    "def ncr(n, r):\n",
    "    r = min(r, n-r)\n",
    "    numer = reduce(op.mul, range(n, n-r, -1), 1)\n",
    "    denom = reduce(op.mul, range(1, r+1), 1)\n",
    "    return numer / denom\n",
    "\n",
    "def prob_M_null(s, N, M):\n",
    "    \"\"\"\n",
    "    Calculate probabilitie that exactly s of the ma's are 0, under H0\n",
    "    N is the size of data that defined the blocks\n",
    "    M is the size of new data that is being compared\n",
    "    \"\"\"\n",
    "    num = ncr(N+1, s)*ncr(M-1, N-s)\n",
    "    den = ncr(M+N, N)\n",
    "    return num/den\n",
    "\n",
    "s_prob = np.zeros(N+1)  # there are N + 1 blocks\n",
    "\n",
    "if N >= M-1:\n",
    "    for s in range(N-M+1, N+1):\n",
    "        s_prob[s] = prob_M_null(s, N, M)\n",
    "else:\n",
    "    for s in range(0, N+1):\n",
    "        s_prob[s] = prob_M_null(s, N, M)\n",
    "        \n",
    "# plot\n",
    "fig = plt.figure(figsize=(8,6))\n",
    "plt.plot(range(0, N+1), s_prob, 'o-', color = 'C0', ms = 5)\n",
    "\n",
    "# plt.xlim(0,15)\n",
    "# plt.ylim(0,1)\n",
    "\n",
    "print(sum(s_prob))\n",
    "print(s_prob)\n"
   ]
  },
  {
   "cell_type": "code",
   "execution_count": 12,
   "metadata": {},
   "outputs": [
    {
     "name": "stdout",
     "output_type": "stream",
     "text": [
      "14 0.028080463216121194\n"
     ]
    },
    {
     "data": {
      "image/png": "[encoded data removed]",
      "text/plain": [
       "<Figure size 576x432 with 1 Axes>"
      ]
     },
     "metadata": {
      "needs_background": "light"
     },
     "output_type": "display_data"
    }
   ],
   "source": [
    "# let's calculate the complement cumulative distribution, under H0 \n",
    "# (we calculate the probability to have at least s m_a's that are 0)\n",
    "S_prob = np.zeros(N+1)\n",
    "for s in range(N+1):\n",
    "    S_prob[s] = sum(s_prob[s:])\n",
    "    \n",
    "fig = plt.figure(figsize=(8,6))\n",
    "plt.plot(range(0, N+1), S_prob, 'o-', color = 'C0', ms = 5)\n",
    "\n",
    "# find the element with significance level closer to epsi\n",
    "epsi = 0.05\n",
    "index = (np.abs(S_prob-epsi)).argmin()\n",
    "if S_prob[index] > epsi:\n",
    "    index = index + 1\n",
    "    \n",
    "print(index, S_prob[index])"
   ]
  },
  {
   "cell_type": "code",
   "execution_count": 13,
   "metadata": {
    "scrolled": true
   },
   "outputs": [
    {
     "name": "stdout",
     "output_type": "stream",
     "text": [
      "14\n",
      "The samples were generated from different distributions\n"
     ]
    }
   ],
   "source": [
    "# finally count the null elements\n",
    "M_nulls = np.count_nonzero(Ma==0)\n",
    "print(M_nulls)\n",
    "if M_nulls < index:\n",
    "    print('The samples were generated from the same distribution')\n",
    "else:\n",
    "    print('The samples were generated from different distributions')"
   ]
  },
  {
   "cell_type": "code",
   "execution_count": null,
   "metadata": {},
   "outputs": [],
   "source": []
  }
 ],
 "metadata": {
  "kernelspec": {
   "display_name": "Python 3",
   "language": "python",
   "name": "python3"
  },
  "language_info": {
   "codemirror_mode": {
    "name": "ipython",
    "version": 3
   },
   "file_extension": ".py",
   "mimetype": "text/x-python",
   "name": "python",
   "nbconvert_exporter": "python",
   "pygments_lexer": "ipython3",
   "version": "3.7.1"
  }
 },
 "nbformat": 4,
 "nbformat_minor": 2
}
