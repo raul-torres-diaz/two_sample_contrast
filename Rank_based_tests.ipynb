{
 "cells": [
  {
   "cell_type": "markdown",
   "metadata": {
    "colab_type": "text",
    "id": "c1lOvAZUBL67"
   },
   "source": [
    "## Result analysis of the ranking based tests. TO DO the implementation of the tests random and no random tests from Kim, 1987\n"
   ]
  },
  {
   "cell_type": "markdown",
   "metadata": {
    "colab_type": "text",
    "id": "lCB8KJy2BL69"
   },
   "source": [
    "### 1. Import libraries"
   ]
  },
  {
   "cell_type": "code",
   "execution_count": 1,
   "metadata": {
    "colab": {},
    "colab_type": "code",
    "id": "P2Am50cKBL6_"
   },
   "outputs": [],
   "source": [
    "import numpy as np\n",
    "import operator as op\n",
    "from functools import reduce\n",
    "import time\n",
    "import pandas as pd\n",
    "import matplotlib.pyplot as plt \n",
    "import random as rnd\n",
    "from scipy import stats"
   ]
  },
  {
   "cell_type": "markdown",
   "metadata": {
    "colab_type": "text",
    "id": "R20VzN8hBL7H"
   },
   "source": [
    "### 2. Cutting functions: Class definition"
   ]
  },
  {
   "cell_type": "code",
   "execution_count": 2,
   "metadata": {
    "colab": {},
    "colab_type": "code",
    "id": "7juYQAyzBL7I"
   },
   "outputs": [],
   "source": [
    "# the class allow to define both cutting functions and permutations, in order to execute a bisection method or randomly\n",
    "class CPfunctions():\n",
    "    def __init__(self, \n",
    "                 Ndata, cut = None, perm = None):\n",
    "        self.N = Ndata   # size of the data\n",
    "    def permutation(self, random = False):\n",
    "        \"\"\"\n",
    "        Define the permutation index for a bisection method, or in a random fashion if random is True\n",
    "        \"\"\"\n",
    "        N = self.N\n",
    "        K = np.arange(1,N+1)\n",
    "        new_K = []\n",
    "        if random:\n",
    "            np.random.shuffle(K)\n",
    "            new_K = K\n",
    "        else:\n",
    "            k_first = list(K)\n",
    "            k_first.sort()\n",
    "            K_List = [k_first]\n",
    "            K_marker = [0]  # index that says if the corresponding K_List has been partitioned or not\n",
    "\n",
    "            for i in range(N):\n",
    "                # choose list to divide\n",
    "                for j in range(len(K_List)):\n",
    "                    if K_marker[j] == 0 and len(K_List[j]) >= 1:\n",
    "                        length_K = len(K_List[j])\n",
    "                        # choose position of new_K in the list\n",
    "                        K_position = (length_K+1)//2 -1   # the middle (even) or the first integer greater than the middle (odd)\n",
    "                        new_K.append(K_List[j][K_position])\n",
    "                        # split the existing array            \n",
    "                        K_List.append(K_List[j][:K_position])\n",
    "                        K_List.append(K_List[j][K_position+1:])\n",
    "                        K_marker[j] = 1\n",
    "                        K_marker.append(0)\n",
    "                        K_marker.append(0)\n",
    "                        # now add elements to H_new\n",
    "                        break\n",
    "                        \n",
    "        self.perm = np.array(new_K)\n",
    "        \n",
    "    def cutting(self, random = False):\n",
    "        N = self.N\n",
    "        H = np.random.randint(0, 2, N)\n",
    "        K = self.perm\n",
    "        new_H = H\n",
    "        if not random:            \n",
    "            H_counter = []   # counter to asign values of H\n",
    "            h = 0\n",
    "            while sum(H_counter) <= len(new_H):\n",
    "                H_counter.append(2**h)\n",
    "                h = h+1\n",
    "\n",
    "            H_value = [0]*len(H_counter)    # values of H to asign\n",
    "            for i in range(len(H_value)):\n",
    "                if i%2 == 1:\n",
    "                    H_value[i] = 1\n",
    "\n",
    "            # for each element in K, asign the corresponding element in H\n",
    "\n",
    "            for i in range(N):\n",
    "                for m in range(len(H_value)):\n",
    "                    if i+1 <= sum(H_counter[:m+1]):\n",
    "                        new_H[K[i]-1] = H_value[m]\n",
    "                        break\n",
    "                        \n",
    "        self.cut = np.array(new_H)\n"
   ]
  },
  {
   "cell_type": "markdown",
   "metadata": {
    "colab_type": "text",
    "id": "LBuu-I4YBL7M"
   },
   "source": [
    "### 3. Blocks: Class definition"
   ]
  },
  {
   "cell_type": "markdown",
   "metadata": {
    "colab_type": "text",
    "id": "eb8u2Y0TBL7O"
   },
   "source": [
    "### Let's define a class to work with the blocks"
   ]
  },
  {
   "cell_type": "code",
   "execution_count": 3,
   "metadata": {
    "colab": {},
    "colab_type": "code",
    "id": "2oLkTTIuBL7P"
   },
   "outputs": [],
   "source": [
    "# New class to be used inside the class Block to gain info of the division process in sample observations\n",
    "class StatOrder(object):\n",
    "    def __init__(self, sample_name, sample_pos, stat_order, value):\n",
    "        self.sample_name = sample_name\n",
    "        self.sample_pos = sample_pos\n",
    "        self.stat_order = stat_order\n",
    "        self.value = value\n",
    "\n",
    "class Block():\n",
    "    def __init__(self, \n",
    "                 sample_data = None,\n",
    "                 vertices = None, \n",
    "                 elements = None, \n",
    "                 stats = None, \n",
    "                 parent = None, \n",
    "                 leftChild = None, \n",
    "                 rightChild = None,\n",
    "                 prefChild = None):\n",
    "        self.sample_data = sample_data # joined dataframe with the two population datasets\n",
    "        self.vertices = vertices   # array with 2 bidimensional elements, corresponding to the vertices of the block\n",
    "                                   # vertices must be ordered starting from the left bottom vertex and finishing with the\n",
    "                                   # right top vertex\n",
    "                                   # the array must have two rows and two columns (bidimensional case)\n",
    "        self.elements = elements   # array with the points that belong to the block. Each row contains an element and each\n",
    "                                   # column is a dimension (in this case, bidimensional)\n",
    "        self.stats = np.sort(stats) # array with index of blocks\n",
    "        self.parent = parent       # parent of the block\n",
    "        self.leftChild = leftChild\n",
    "        self.rightChild = rightChild\n",
    "        self.prefChild = prefChild\n",
    "\n",
    "    def plot(self, color = 'C0', lw = 1, size = 12, print_num = True):\n",
    "        plt.plot(self.vertices[:,0], np.ones(2)*self.vertices[0,1], color = color, lw = lw)\n",
    "        plt.plot(np.ones(2)*self.vertices[1,0], self.vertices[:,1], color = color, lw = lw)\n",
    "        plt.plot(self.vertices[:,0], np.ones(2)*self.vertices[1,1], color = color, lw = lw)\n",
    "        plt.plot(np.ones(2)*self.vertices[0,0], self.vertices[:,1], color = color, lw = lw)\n",
    "        xplot = (self.vertices[0,0]+self.vertices[1,0])/2\n",
    "        yplot = (self.vertices[0,1]+self.vertices[1,1])/2\n",
    "        if self.stats.size == 1 and print_num:\n",
    "            plt.text(xplot, yplot, str(self.stats[0]), fontsize = size)\n",
    "\n",
    "    def split(self, axis, korder):\n",
    "        \"\"\"\n",
    "        This method split a Block and creates two child blocks, making the partirion \n",
    "        on the korder th statistic\n",
    "        axis: indicates wheter it is along \n",
    "              the X axis (vertical, 0) or \n",
    "              the Y axis (horizontal, 1)\n",
    "        korder: is the order statistic to make the partition\n",
    "        \"\"\"\n",
    "        # select the dimension to sort\n",
    "        Xele = self.elements[:,axis]\n",
    "        # select the kth order statistic\n",
    "        idx_xele = np.argsort(Xele) \n",
    "        sample_order = self.elements[idx_xele,:]\n",
    "        Xorder = Xele[idx_xele]\n",
    "        minStat = min(self.stats)\n",
    "        korder_org = korder\n",
    "        korder = korder - minStat\n",
    "        xstat = Xorder[korder]\n",
    "        x_sel = sample_order[korder,:]        \n",
    "        sel_pos = self.sample_data.index[np.where(self.sample_data.isin(x_sel).sum(axis=1) ==2)]\n",
    "        # divide the stats\n",
    "        statsL = self.stats[:korder+1]\n",
    "        statsR = self.stats[korder+1:]\n",
    "        # create the elements and vertices of each block\n",
    "        Relements = np.empty((0, 2))\n",
    "        Lelements = np.empty((0, 2))\n",
    "        # add elements to vertices and elements for each case\n",
    "        if axis == 0:\n",
    "            Lvertices = np.array([self.vertices[0,:], [xstat, self.vertices[1,1]]])\n",
    "            Rvertices = np.array([[xstat, self.vertices[0,1]], self.vertices[1,:]])\n",
    "            # now we move on the elements of the parent block and select wich ones \n",
    "            # go to the left and right child\n",
    "            for l in range(self.elements.shape[0]):\n",
    "                if Xele[l] < xstat:\n",
    "                    Lelements = np.append(Lelements, [self.elements[l, :]], axis = 0)   # add the new element as a row\n",
    "                elif Xele[l] > xstat:\n",
    "                    Relements = np.append(Relements, [self.elements[l, :]], axis = 0)   # add the new element as a row\n",
    "                else:\n",
    "                    Pchild =  StatOrder(sample_name = sel_pos[0][0],\n",
    "                                        sample_pos = sel_pos[0][1]+1,\n",
    "                                        stat_order = korder_org, \n",
    "                                        value = self.elements[l, :])  # choosen k-th order\n",
    "        elif axis == 1:\n",
    "            Lvertices = np.array([self.vertices[0,:], [self.vertices[1,0], xstat]])\n",
    "            Rvertices = np.array([[self.vertices[0,0], xstat],self.vertices[1,:]])\n",
    "            # now we move on the elements of the parent block and select wich ones go to the left and right child\n",
    "            for l in range(self.elements.shape[0]):\n",
    "                if Xele[l] < xstat:\n",
    "                    Lelements = np.append(Lelements, [self.elements[l, :]], axis = 0)   # add the new element as a row\n",
    "                elif Xele[l] > xstat:\n",
    "                    Relements = np.append(Relements, [self.elements[l, :]], axis = 0)   # add the new element as a row\n",
    "                else:                    \n",
    "                    Pchild =  StatOrder(sample_name = sel_pos[0][0],\n",
    "                                        sample_pos = sel_pos[0][1]+1,\n",
    "                                        stat_order = korder_org, \n",
    "                                        value = self.elements[l, :])  # choosen k-th order\n",
    "        # create the childs of the block\n",
    "        Rchild = Block(sample_data = self.sample_data,\n",
    "                       vertices = Rvertices, \n",
    "                       elements = Relements, \n",
    "                       stats = statsR, \n",
    "                       parent = self)  \n",
    "        # right side or up side (the greaters elements)\n",
    "        Lchild = Block(sample_data = self.sample_data,\n",
    "                       vertices = Lvertices, \n",
    "                       elements = Lelements, \n",
    "                       stats = statsL, \n",
    "                       parent = self)   \n",
    "        # left side or down side (the smaller elements)\n",
    "        # asociate the childs to the parten\n",
    "        self.rightChild = Rchild\n",
    "        self.leftChild = Lchild\n",
    "        self.prefChild = Pchild\n",
    "        # return the place where the partition was made\n",
    "        return xstat\n",
    "\n",
    "    def belong(self, x):\n",
    "        nx = x.shape[0]\n",
    "        out = True\n",
    "        for i in range(nx):\n",
    "            out = out and self.vertices[0,i] < x[i] <= self.vertices[1,i]\n",
    "        return out"
   ]
  },
  {
   "cell_type": "code",
   "execution_count": 4,
   "metadata": {
    "colab": {},
    "colab_type": "code",
    "id": "4b1hN1RKBL7U"
   },
   "outputs": [],
   "source": [
    "# other functions to calculate distributions and order blocks\n",
    "\n",
    "def ncr(n, r):\n",
    "    r = min(r, n-r)\n",
    "    numer = reduce(op.mul, range(n, n-r, -1), 1)\n",
    "    denom = reduce(op.mul, range(1, r+1), 1)\n",
    "    return numer / denom\n",
    "\n",
    "def prob_M_null(s, N, M):\n",
    "    \"\"\"\n",
    "    Calculate probabilitie that exactly s of the ma's are 0, under H0\n",
    "    N is the size of data that defined the blocks\n",
    "    M is the size of new data that is being compared\n",
    "    \"\"\"\n",
    "    num = ncr(N+1, s)*ncr(M-1, N-s)\n",
    "    den = ncr(M+N, N)\n",
    "    return num/den\n",
    "\n",
    "def order_blocks(Blocks):\n",
    "    \"\"\"\n",
    "    order the final blocks, so in the list of blocks they will be on the order corresponding to their statistics\n",
    "    \"\"\"\n",
    "    Blocks_Order = []\n",
    "    N_Blocks = len(Blocks)\n",
    "    Assigned_Blocks = 0\n",
    "    i = 0\n",
    "    while Assigned_Blocks < N_Blocks:\n",
    "        if Blocks[int(i%N_Blocks)].stats[0] == Assigned_Blocks+1:\n",
    "            Blocks_Order.extend([Blocks[i%N_Blocks]])\n",
    "            Assigned_Blocks = Assigned_Blocks + 1\n",
    "        i = i + 1  # search in another block\n",
    "    return Blocks_Order\n",
    "\n",
    "def counting_blocks(Blocks, data):\n",
    "    \"\"\"\n",
    "    counts the number of elementos from data belonging to each block of the list Blocks\n",
    "    \"\"\"\n",
    "    data_copy = data   # copy Y to eliminate the elements already assigned to a block\n",
    "    Ma = np.zeros(len(Blocks))  # \n",
    "\n",
    "    # calculate the values of m_{alpha}\n",
    "    for k in range(len(Blocks)):\n",
    "        i = 0\n",
    "        while i < data_copy.shape[0]:   # count the elements that belong to the k-th block\n",
    "            if Blocks[k].belong(data_copy[i,:]):\n",
    "                Ma[k] = Ma[k] + 1\n",
    "                data_copy = np.delete(data_copy, i, axis = 0)  # eliminate to make a shorter search\n",
    "                i = i - 1\n",
    "            i = i + 1\n",
    "    return Ma\n",
    "\n",
    "def rank_by_blocks(blocks, countings):\n",
    "    \"\"\"\n",
    "    vectors of ranking for each sample according to the constructed blocks\n",
    "    \"\"\"\n",
    "    rank_flag = True\n",
    "    rank_correction = 1\n",
    "    ranks_1 = []\n",
    "    ranks_2 = []\n",
    "    for i in range(len(blocks)):\n",
    "        if countings[i] == 0 & rank_flag:\n",
    "            ranks_1.append(rank_correction)\n",
    "            rank_correction += 1\n",
    "            rank_flag = False\n",
    "        elif countings[i] != 0 & rank_flag:\n",
    "            ranks_2.extend(np.arange(rank_correction,rank_correction + countings[i]))\n",
    "            rank_correction += countings[i]\n",
    "            ranks_1.append(rank_correction)\n",
    "            rank_correction += 1\n",
    "            rank_flag = False\n",
    "        elif countings[i] == 0:\n",
    "            ranks_1.append(rank_correction)\n",
    "            rank_correction += 1\n",
    "        elif countings[i] != 0:\n",
    "            ranks_2.extend(np.arange(rank_correction,rank_correction + countings[i]))\n",
    "            rank_correction += countings[i]\n",
    "            ranks_1.append(rank_correction)\n",
    "            rank_correction += 1\n",
    "    ranks_1.remove(ranks_1[-1])\n",
    "    return ranks_1, ranks_2"
   ]
  },
  {
   "cell_type": "markdown",
   "metadata": {
    "colab_type": "text",
    "id": "tYsjQtfdEFM9"
   },
   "source": [
    "### 4. Summary of the report data "
   ]
  },
  {
   "cell_type": "code",
   "execution_count": 5,
   "metadata": {
    "colab": {},
    "colab_type": "code",
    "id": "tDrnH2_pEETh"
   },
   "outputs": [],
   "source": [
    "X = np.array([[4.91, 2.16], [6.05, 5.54], [3.48, 1.35], [8.09, 0.18], [2.53, 3.49],\n",
    "              [1.62, 2.46], [8.37, 2.29], [3.17, 6.27], [6.02, 4.51], [8.50, 4.65],\n",
    "              [4.21, 5.93], [0.15, 5.99], [9.31, 3.77], [4.10, 0.45], [5.83, 2.42],\n",
    "              [6.00, 0.27], [3.30, 8.93], [4.38, 7.81], [4.93, 6.64], [1.22, 1.54]])\n",
    "Y = np.array([[13.90, 2.13], [7.71, 6.89], [9.67, 6.20], [7.56, 0.90], [10.39, 2.43],\n",
    "              [13.47, 0.45], [14.55, 0.01], [7.46, 0.18], [11.25, 1.08], [13.00, 82.37],\n",
    "              [6.33, 4.44], [11.86, 0.83], [7.42, 2.31], [9.15, 3.94], [12.73, 6.12],\n",
    "              [6.58, 3.04], [7.34, 3.69], [8.12, 2.59], [7.79, 3.68], [5.65, 2.40]])\n",
    "# cutting functions along the X axis (vertical, 0) or the Y axis (horizontal, 1)\n",
    "H = np.array([1,1,0,1,1,1,0,1,1,0,0,0,1,0,1,0,1,0,0,1])\n",
    "# define the permutaions \n",
    "K = np.array([10, 5, 15, 3, 7, 12, 18, 2, 4, 6, 8, 11, 13, 16, 19, 1, 9, 14, 17, 20])"
   ]
  },
  {
   "cell_type": "markdown",
   "metadata": {
    "colab_type": "text",
    "id": "j8vo1h5bBL7Y"
   },
   "source": [
    "### 5. Blocks from data X"
   ]
  },
  {
   "cell_type": "code",
   "execution_count": 7,
   "metadata": {
    "colab": {
     "base_uri": "https://localhost:8080/",
     "height": 87
    },
    "colab_type": "code",
    "executionInfo": {
     "elapsed": 674,
     "status": "ok",
     "timestamp": 1587062078006,
     "user": {
      "displayName": "Raul Torres",
      "photoUrl": "",
      "userId": "03430272771244400202"
     },
     "user_tz": -120
    },
    "id": "cnXPg9jfQacT",
    "outputId": "440493c2-ab60-49c1-88d3-bf18c2d4c0e6"
   },
   "outputs": [
    {
     "name": "stdout",
     "output_type": "stream",
     "text": [
      "[1, 2, 3, 4, 5, 6, 7, 8, 9, 10, 11, 13.0, 16.0, 19.0, 24.0, 25.0, 26.0, 27.0, 34.0, 36.0]\n",
      "[12.0, 14.0, 15.0, 17.0, 18.0, 20.0, 21.0, 22.0, 23.0, 28.0, 29.0, 30.0, 31.0, 32.0, 33.0, 35.0, 37.0, 38.0, 39.0, 40.0]\n",
      "Ks_2sampResult(statistic=0.55, pvalue=0.0025706143095149737)\n",
      "MannwhitneyuResult(statistic=76.0, pvalue=0.0004178584108636263)\n"
     ]
    }
   ],
   "source": [
    "sample_1 = X\n",
    "sample_2 = Y\n",
    "all_sample = X\n",
    "[N, cols] = all_sample.shape\n",
    "df_sample = pd.DataFrame(all_sample)\n",
    "df_sample['idx'] = range(len(df_sample))\n",
    "df_sample['name'] = 'pop_1'\n",
    "df_sample = df_sample.set_index(['name', 'idx'])\n",
    "max_box = np.max([sample_1,sample_2])+10\n",
    "min_box = np.min([sample_1,sample_2])-10\n",
    "First_Block = Block(sample_data = df_sample,\n",
    "                    vertices = np.array([[min_box,min_box],[max_box,max_box]]),\n",
    "                    elements = all_sample, \n",
    "                    stats = range(1,N+2))\n",
    "Blocks_List = [First_Block]\n",
    "for i in range(N):\n",
    "    # search the last block that has the K[i] stat\n",
    "    for j in range(len(Blocks_List)):\n",
    "        if (K[i] in Blocks_List[j].stats and Blocks_List[j].leftChild == None):\n",
    "            Blocks_List[j].split(axis = H[K[i]-1], korder = K[i])\n",
    "            Blocks_List.extend([Blocks_List[j].leftChild, Blocks_List[j].rightChild])            \n",
    "            break\n",
    "Blocks_Final = []\n",
    "for j in range(len(Blocks_List)):\n",
    "    if Blocks_List[j].leftChild == None:\n",
    "        Blocks_Final.extend([Blocks_List[j]])\n",
    "# test if both data samples come from the same distribution\n",
    "# order the blocks and count their elements\n",
    "Blocks_Order = order_blocks(Blocks_Final)\n",
    "Ma = counting_blocks(Blocks_Order, sample_2)\n",
    "ranks_pop1, ranks_pop2 = rank_by_blocks(blocks = Blocks_Order, countings = Ma)\n",
    "print(ranks_pop1)    \n",
    "print(ranks_pop2)\n",
    "\n",
    "ks_test = stats.ks_2samp(ranks_pop1, ranks_pop2)\n",
    "mw_test = stats.mannwhitneyu(ranks_pop1,ranks_pop2)    \n",
    "print(ks_test) \n",
    "print(mw_test)  "
   ]
  },
  {
   "cell_type": "markdown",
   "metadata": {
    "colab_type": "text",
    "id": "dLpGL4ERK-36"
   },
   "source": [
    "### 6. Blocks from data Y"
   ]
  },
  {
   "cell_type": "code",
   "execution_count": 0,
   "metadata": {
    "colab": {
     "base_uri": "https://localhost:8080/",
     "height": 87
    },
    "colab_type": "code",
    "executionInfo": {
     "elapsed": 630,
     "status": "ok",
     "timestamp": 1587062137907,
     "user": {
      "displayName": "Raul Torres",
      "photoUrl": "",
      "userId": "03430272771244400202"
     },
     "user_tz": -120
    },
    "id": "hNooOrI9LfHX",
    "outputId": "1cfc422a-95b9-4ba0-a37d-65edf3040172"
   },
   "outputs": [
    {
     "name": "stdout",
     "output_type": "stream",
     "text": [
      "[6.0, 7.0, 10.0, 12.0, 13.0, 15.0, 24.0, 25.0, 26.0, 27.0, 28.0, 29.0, 30.0, 31.0, 32.0, 35.0, 37.0, 38.0, 39.0, 40.0]\n",
      "[1.0, 2.0, 3.0, 4.0, 5.0, 8.0, 9.0, 11.0, 14.0, 16.0, 17.0, 18.0, 19.0, 20.0, 21.0, 22.0, 23.0, 33.0, 34.0, 36.0]\n",
      "Ks_2sampResult(statistic=0.55, pvalue=0.00396729438660086)\n",
      "MannwhitneyuResult(statistic=106.0, pvalue=0.005716414654220047)\n"
     ]
    }
   ],
   "source": [
    "sample_1 = Y\n",
    "sample_2 = X\n",
    "all_sample = Y\n",
    "[N, cols] = all_sample.shape\n",
    "df_sample = pd.DataFrame(all_sample)\n",
    "df_sample['idx'] = range(len(df_sample))\n",
    "df_sample['name'] = 'pop_1'\n",
    "df_sample = df_sample.set_index(['name', 'idx'])\n",
    "max_box = np.max([sample_1,sample_2])+10\n",
    "min_box = np.min([sample_1,sample_2])-10\n",
    "First_Block = Block(sample_data = df_sample,\n",
    "                    vertices = np.array([[min_box,min_box],[max_box,max_box]]),\n",
    "                    elements = all_sample, \n",
    "                    stats = range(1,N+2))\n",
    "Blocks_List = [First_Block]\n",
    "for i in range(N):\n",
    "    # search the last block that has the K[i] stat\n",
    "    for j in range(len(Blocks_List)):\n",
    "        if (K[i] in Blocks_List[j].stats and Blocks_List[j].leftChild == None):\n",
    "            Blocks_List[j].split(axis = H[K[i]-1], korder = K[i])\n",
    "            Blocks_List.extend([Blocks_List[j].leftChild, Blocks_List[j].rightChild])            \n",
    "            break\n",
    "Blocks_Final = []\n",
    "for j in range(len(Blocks_List)):\n",
    "    if Blocks_List[j].leftChild == None:\n",
    "        Blocks_Final.extend([Blocks_List[j]])\n",
    "# test if both data samples come from the same distribution\n",
    "# order the blocks and count their elements\n",
    "Blocks_Order = order_blocks(Blocks_Final)\n",
    "Ma = counting_blocks(Blocks_Order, sample_2)\n",
    "ranks_pop1, ranks_pop2 = rank_by_blocks(blocks = Blocks_Order, countings = Ma)\n",
    "print(ranks_pop1)    \n",
    "print(ranks_pop2)\n",
    "\n",
    "ks_test = stats.ks_2samp(ranks_pop1, ranks_pop2)\n",
    "mw_test = stats.mannwhitneyu(ranks_pop1,ranks_pop2)    \n",
    "print(ks_test) \n",
    "print(mw_test) "
   ]
  },
  {
   "cell_type": "markdown",
   "metadata": {
    "colab_type": "text",
    "id": "hCHab5xrNUMk"
   },
   "source": [
    "### Considering de cases used by Mauricio from Kim's paper\n",
    "### 7. Location case"
   ]
  },
  {
   "cell_type": "code",
   "execution_count": 0,
   "metadata": {
    "colab": {},
    "colab_type": "code",
    "id": "YhwJ8m3uBL7Z"
   },
   "outputs": [],
   "source": [
    "# first data from Kim: Location\n",
    "meanX = 0.7*np.array([1,1])\n",
    "covX = 1*np.array([[1,0],[0,1]])\n",
    "meanY = np.array([0,0])\n",
    "covY = 1*np.array([[1,0],[0,1]])\n",
    "N = 32\n",
    "M = 32\n",
    "\n",
    "Xmin = min(meanX[0]-4*covX[0,0], meanY[0]-4*covY[0,0])\n",
    "Xmax = max(meanX[0]+4*covX[0,0], meanY[0]+4*covY[0,0])\n",
    "Ymin = min(meanX[1]-4*covX[1,1], meanY[1]-4*covY[1,1])\n",
    "Ymax = max(meanX[1]+4*covX[1,1], meanY[1]+4*covY[1,1])\n",
    "\n",
    "\n",
    "# define cutting functions and permutation order, blocks from data X\n",
    "Lists = CPfunctions(N)\n",
    "Lists.permutation()\n",
    "Lists.cutting()\n",
    "K = Lists.perm\n",
    "H = Lists.cut"
   ]
  },
  {
   "cell_type": "markdown",
   "metadata": {
    "colab_type": "text",
    "id": "KqFYNYbEBL7e"
   },
   "source": [
    "### Excecution of Nrep repetitions of the test, generating diferent samples and using blocks from data X"
   ]
  },
  {
   "cell_type": "code",
   "execution_count": 0,
   "metadata": {
    "colab": {
     "base_uri": "https://localhost:8080/",
     "height": 208
    },
    "colab_type": "code",
    "executionInfo": {
     "elapsed": 834,
     "status": "ok",
     "timestamp": 1587062993243,
     "user": {
      "displayName": "Raul Torres",
      "photoUrl": "",
      "userId": "03430272771244400202"
     },
     "user_tz": -120
    },
    "id": "1mOG7HlyRtgx",
    "outputId": "a7e3bd61-74ef-450b-fb57-bba45b348400"
   },
   "outputs": [
    {
     "name": "stdout",
     "output_type": "stream",
     "text": [
      "Ks_2sampResult(statistic=0.4375, pvalue=0.003930635540499007)\n",
      "MannwhitneyuResult(statistic=234.0, pvalue=9.725762465288967e-05)\n",
      "Ks_2sampResult(statistic=0.5625, pvalue=5.222642099890917e-05)\n",
      "MannwhitneyuResult(statistic=219.0, pvalue=4.292696657077734e-05)\n",
      "Ks_2sampResult(statistic=0.34375, pvalue=0.04486227643337436)\n",
      "MannwhitneyuResult(statistic=304.0, pvalue=0.0026670372721594947)\n",
      "Ks_2sampResult(statistic=0.5625, pvalue=5.222642099890917e-05)\n",
      "MannwhitneyuResult(statistic=232.0, pvalue=8.740395720111071e-05)\n",
      "Ks_2sampResult(statistic=0.375, pvalue=0.021411615091346068)\n",
      "MannwhitneyuResult(statistic=299.0, pvalue=0.002163590575705298)\n",
      "0.22963237762451172\n"
     ]
    }
   ],
   "source": [
    "Nrep = 5   # number of repetitions\n",
    "counter = 0   # counts the number of rejections of H0\n",
    "\n",
    "start = time.time()\n",
    "\n",
    "for repetition in range(Nrep):\n",
    "    #generate X data\n",
    "    X = np.random.multivariate_normal(meanX, covX, N)\n",
    "    # generate Y data\n",
    "    Y = np.random.multivariate_normal(meanY, covY, M)\n",
    "    # configuration\n",
    "    sample_1 = X\n",
    "    sample_2 = Y\n",
    "    all_sample = X\n",
    "    [N, cols] = all_sample.shape\n",
    "    df_sample = pd.DataFrame(all_sample)\n",
    "    df_sample['idx'] = range(len(df_sample))\n",
    "    df_sample['name'] = 'pop_1'\n",
    "    df_sample = df_sample.set_index(['name', 'idx'])\n",
    "    # create list with blocks\n",
    "    First_Block = Block(sample_data = df_sample,\n",
    "                        vertices = np.array([[Xmin,Ymin],[Xmax,Ymax]]),\n",
    "                        elements = all_sample, \n",
    "                        stats = range(1,N+2))\n",
    "    Blocks_List = [First_Block]\n",
    "    for i in range(N):\n",
    "        # search the last block that has the K[i] stat\n",
    "        for j in range(len(Blocks_List)):\n",
    "            if (K[i] in Blocks_List[j].stats and Blocks_List[j].leftChild == None):\n",
    "                Blocks_List[j].split(axis = H[K[i]-1], korder = K[i])\n",
    "                Blocks_List.extend([Blocks_List[j].leftChild, Blocks_List[j].rightChild])            \n",
    "                break\n",
    "    Blocks_Final = []\n",
    "    for j in range(len(Blocks_List)):\n",
    "        if Blocks_List[j].leftChild == None:\n",
    "            Blocks_Final.extend([Blocks_List[j]])\n",
    "    # test if both data samples come from the same distribution\n",
    "    # order the blocks and count their elements\n",
    "    Blocks_Order = order_blocks(Blocks_Final)\n",
    "    Ma = counting_blocks(Blocks_Order, sample_2)\n",
    "    ranks_pop1, ranks_pop2 = rank_by_blocks(blocks = Blocks_Order, countings = Ma)\n",
    "    ks_test = stats.ks_2samp(ranks_pop1, ranks_pop2)\n",
    "    mw_test = stats.mannwhitneyu(ranks_pop1,ranks_pop2)    \n",
    "    print(ks_test) \n",
    "    print(mw_test) \n",
    "\n",
    "end = time.time()\n",
    "print(end-start)"
   ]
  },
  {
   "cell_type": "markdown",
   "metadata": {
    "colab_type": "text",
    "id": "-aeuFBpMBL7n"
   },
   "source": [
    "### Excecution of Nrep repetitions of the test, generating diferent samples and using blocks from data Y"
   ]
  },
  {
   "cell_type": "code",
   "execution_count": 0,
   "metadata": {
    "colab": {
     "base_uri": "https://localhost:8080/",
     "height": 191
    },
    "colab_type": "code",
    "executionInfo": {
     "elapsed": 1013,
     "status": "ok",
     "timestamp": 1587063002825,
     "user": {
      "displayName": "Raul Torres",
      "photoUrl": "",
      "userId": "03430272771244400202"
     },
     "user_tz": -120
    },
    "id": "H3LsJ6EvBL7t",
    "outputId": "419b8f94-3883-4428-ad7c-cc40b225c209"
   },
   "outputs": [
    {
     "name": "stdout",
     "output_type": "stream",
     "text": [
      "Ks_2sampResult(statistic=0.53125, pvalue=0.0001740880699963639)\n",
      "MannwhitneyuResult(statistic=256.0, pvalue=0.0003010819994525373)\n",
      "Ks_2sampResult(statistic=0.46875, pvalue=0.0015053497817310642)\n",
      "MannwhitneyuResult(statistic=265.0, pvalue=0.000466824231134247)\n",
      "Ks_2sampResult(statistic=0.375, pvalue=0.021411615091346068)\n",
      "MannwhitneyuResult(statistic=309.0, pvalue=0.0032739936449344147)\n",
      "Ks_2sampResult(statistic=0.59375, pvalue=1.4336664587935851e-05)\n",
      "MannwhitneyuResult(statistic=170.0, pvalue=2.2658827777250143e-06)\n",
      "Ks_2sampResult(statistic=0.65625, pvalue=8.115093162982555e-07)\n",
      "MannwhitneyuResult(statistic=183.0, pvalue=5.148993625829893e-06)\n"
     ]
    }
   ],
   "source": [
    "Nrep = 5   # number of repetitions\n",
    "counter = 0   # counts the number of rejections of H0\n",
    "for repetition in range(Nrep):\n",
    "    #generate X data\n",
    "    X = np.random.multivariate_normal(meanX, covX, N)\n",
    "    # generate Y data\n",
    "    Y = np.random.multivariate_normal(meanY, covY, M)\n",
    "    # configuration\n",
    "    sample_1 = Y\n",
    "    sample_2 = X\n",
    "    all_sample = Y\n",
    "    [N, cols] = all_sample.shape\n",
    "    df_sample = pd.DataFrame(all_sample)\n",
    "    df_sample['idx'] = range(len(df_sample))\n",
    "    df_sample['name'] = 'pop_1'\n",
    "    df_sample = df_sample.set_index(['name', 'idx'])\n",
    "    # create list with blocks\n",
    "    First_Block = Block(sample_data = df_sample,\n",
    "                        vertices = np.array([[Xmin,Ymin],[Xmax,Ymax]]),\n",
    "                        elements = all_sample, \n",
    "                        stats = range(1,N+2))\n",
    "    Blocks_List = [First_Block]\n",
    "    for i in range(N):\n",
    "        # search the last block that has the K[i] stat\n",
    "        for j in range(len(Blocks_List)):\n",
    "            if (K[i] in Blocks_List[j].stats and Blocks_List[j].leftChild == None):\n",
    "                Blocks_List[j].split(axis = H[K[i]-1], korder = K[i])\n",
    "                Blocks_List.extend([Blocks_List[j].leftChild, Blocks_List[j].rightChild])            \n",
    "                break\n",
    "    Blocks_Final = []\n",
    "    for j in range(len(Blocks_List)):\n",
    "        if Blocks_List[j].leftChild == None:\n",
    "            Blocks_Final.extend([Blocks_List[j]])\n",
    "    # test if both data samples come from the same distribution\n",
    "    # order the blocks and count their elements\n",
    "    Blocks_Order = order_blocks(Blocks_Final)\n",
    "    Ma = counting_blocks(Blocks_Order, sample_2)\n",
    "    ranks_pop1, ranks_pop2 = rank_by_blocks(blocks = Blocks_Order, countings = Ma)\n",
    "    ks_test = stats.ks_2samp(ranks_pop1, ranks_pop2)\n",
    "    mw_test = stats.mannwhitneyu(ranks_pop1,ranks_pop2)    \n",
    "    print(ks_test) \n",
    "    print(mw_test) \n"
   ]
  },
  {
   "cell_type": "markdown",
   "metadata": {
    "colab_type": "text",
    "id": "qr0MgvBlV9BX"
   },
   "source": [
    "### 8. Scale case"
   ]
  },
  {
   "cell_type": "code",
   "execution_count": 0,
   "metadata": {
    "colab": {},
    "colab_type": "code",
    "id": "lq-0DW91BL7y"
   },
   "outputs": [],
   "source": [
    "# first data from Kim: Scale\n",
    "meanX = np.array([0,0])\n",
    "covX = 1*np.array([[1,0],[0,1]])\n",
    "meanY = np.array([0,0])\n",
    "covY = 3*np.array([[1,0],[0,1]])\n",
    "N = 32\n",
    "M = 32\n",
    "\n",
    "Xmin = min(meanX[0]-4*covX[0,0], meanY[0]-4*covY[0,0])\n",
    "Xmax = max(meanX[0]+4*covX[0,0], meanY[0]+4*covY[0,0])\n",
    "Ymin = min(meanX[1]-4*covX[1,1], meanY[1]-4*covY[1,1])\n",
    "Ymax = max(meanX[1]+4*covX[1,1], meanY[1]+4*covY[1,1])\n",
    "\n",
    "\n",
    "# define cutting functions and permutation order, blocks from data X\n",
    "Lists = CPfunctions(N)\n",
    "Lists.permutation()\n",
    "Lists.cutting()\n",
    "K = Lists.perm\n",
    "H = Lists.cut"
   ]
  },
  {
   "cell_type": "markdown",
   "metadata": {
    "colab_type": "text",
    "id": "0cQfBjh-YCyD"
   },
   "source": [
    "### Excecution of Nrep repetitions of the test, generating diferent samples and using blocks from data X"
   ]
  },
  {
   "cell_type": "code",
   "execution_count": 0,
   "metadata": {
    "colab": {
     "base_uri": "https://localhost:8080/",
     "height": 208
    },
    "colab_type": "code",
    "executionInfo": {
     "elapsed": 742,
     "status": "ok",
     "timestamp": 1587063902012,
     "user": {
      "displayName": "Raul Torres",
      "photoUrl": "",
      "userId": "03430272771244400202"
     },
     "user_tz": -120
    },
    "id": "NRe-8cz7YTBK",
    "outputId": "5eba9bc5-404b-43f9-f45c-2c088b044bcb"
   },
   "outputs": [
    {
     "name": "stdout",
     "output_type": "stream",
     "text": [
      "Ks_2sampResult(statistic=0.21875, pvalue=0.43373609970146565)\n",
      "MannwhitneyuResult(statistic=490.0, pvalue=0.386411677141983)\n",
      "Ks_2sampResult(statistic=0.1875, pvalue=0.6351394872698826)\n",
      "MannwhitneyuResult(statistic=504.0, pvalue=0.45989285526086104)\n",
      "Ks_2sampResult(statistic=0.21875, pvalue=0.43373609970146565)\n",
      "MannwhitneyuResult(statistic=451.0, pvalue=0.20829747609465665)\n",
      "Ks_2sampResult(statistic=0.125, pvalue=0.9682898378649185)\n",
      "MannwhitneyuResult(statistic=508.0, pvalue=0.48125859088907336)\n",
      "Ks_2sampResult(statistic=0.125, pvalue=0.9682898378649185)\n",
      "MannwhitneyuResult(statistic=488.0, pvalue=0.3761765576755048)\n",
      "0.23328495025634766\n"
     ]
    }
   ],
   "source": [
    "Nrep = 5   # number of repetitions\n",
    "counter = 0   # counts the number of rejections of H0\n",
    "\n",
    "start = time.time()\n",
    "\n",
    "for repetition in range(Nrep):\n",
    "    #generate X data\n",
    "    X = np.random.multivariate_normal(meanX, covX, N)\n",
    "    # generate Y data\n",
    "    Y = np.random.multivariate_normal(meanY, covY, M)\n",
    "    # configuration\n",
    "    sample_1 = X\n",
    "    sample_2 = Y\n",
    "    all_sample = X\n",
    "    [N, cols] = all_sample.shape\n",
    "    df_sample = pd.DataFrame(all_sample)\n",
    "    df_sample['idx'] = range(len(df_sample))\n",
    "    df_sample['name'] = 'pop_1'\n",
    "    df_sample = df_sample.set_index(['name', 'idx'])\n",
    "    # create list with blocks\n",
    "    First_Block = Block(sample_data = df_sample,\n",
    "                        vertices = np.array([[Xmin,Ymin],[Xmax,Ymax]]),\n",
    "                        elements = all_sample, \n",
    "                        stats = range(1,N+2))\n",
    "    Blocks_List = [First_Block]\n",
    "    for i in range(N):\n",
    "        # search the last block that has the K[i] stat\n",
    "        for j in range(len(Blocks_List)):\n",
    "            if (K[i] in Blocks_List[j].stats and Blocks_List[j].leftChild == None):\n",
    "                Blocks_List[j].split(axis = H[K[i]-1], korder = K[i])\n",
    "                Blocks_List.extend([Blocks_List[j].leftChild, Blocks_List[j].rightChild])            \n",
    "                break\n",
    "    Blocks_Final = []\n",
    "    for j in range(len(Blocks_List)):\n",
    "        if Blocks_List[j].leftChild == None:\n",
    "            Blocks_Final.extend([Blocks_List[j]])\n",
    "    # test if both data samples come from the same distribution\n",
    "    # order the blocks and count their elements\n",
    "    Blocks_Order = order_blocks(Blocks_Final)\n",
    "    Ma = counting_blocks(Blocks_Order, sample_2)\n",
    "    ranks_pop1, ranks_pop2 = rank_by_blocks(blocks = Blocks_Order, countings = Ma)\n",
    "    ks_test = stats.ks_2samp(ranks_pop1, ranks_pop2)\n",
    "    mw_test = stats.mannwhitneyu(ranks_pop1,ranks_pop2)    \n",
    "    print(ks_test) \n",
    "    print(mw_test) \n",
    "\n",
    "end = time.time()\n",
    "print(end-start)"
   ]
  },
  {
   "cell_type": "markdown",
   "metadata": {
    "colab_type": "text",
    "id": "C-CkIawOYh6S"
   },
   "source": [
    "### Excecution of Nrep repetitions of the test, generating diferent samples and using blocks from data Y"
   ]
  },
  {
   "cell_type": "code",
   "execution_count": 0,
   "metadata": {
    "colab": {
     "base_uri": "https://localhost:8080/",
     "height": 191
    },
    "colab_type": "code",
    "executionInfo": {
     "elapsed": 778,
     "status": "ok",
     "timestamp": 1587063960379,
     "user": {
      "displayName": "Raul Torres",
      "photoUrl": "",
      "userId": "03430272771244400202"
     },
     "user_tz": -120
    },
    "id": "EPH3LsYZYh6U",
    "outputId": "00779b63-a33d-4ea3-e298-a427d10cb9ec"
   },
   "outputs": [
    {
     "name": "stdout",
     "output_type": "stream",
     "text": [
      "Ks_2sampResult(statistic=0.1875, pvalue=0.6351394872698826)\n",
      "MannwhitneyuResult(statistic=485.0, pvalue=0.36098784311900955)\n",
      "Ks_2sampResult(statistic=0.25, pvalue=0.2730080624498207)\n",
      "MannwhitneyuResult(statistic=512.0, pvalue=0.49732169042379054)\n",
      "Ks_2sampResult(statistic=0.28125, pvalue=0.16006945300221284)\n",
      "MannwhitneyuResult(statistic=424.0, pvalue=0.12002217129921722)\n",
      "Ks_2sampResult(statistic=0.21875, pvalue=0.43373609970146565)\n",
      "MannwhitneyuResult(statistic=479.0, pvalue=0.3312796163761161)\n",
      "Ks_2sampResult(statistic=0.25, pvalue=0.2730080624498207)\n",
      "MannwhitneyuResult(statistic=464.0, pvalue=0.26180525694397777)\n"
     ]
    }
   ],
   "source": [
    "Nrep = 5   # number of repetitions\n",
    "counter = 0   # counts the number of rejections of H0\n",
    "for repetition in range(Nrep):\n",
    "    #generate X data\n",
    "    X = np.random.multivariate_normal(meanX, covX, N)\n",
    "    # generate Y data\n",
    "    Y = np.random.multivariate_normal(meanY, covY, M)\n",
    "    # configuration\n",
    "    sample_1 = Y\n",
    "    sample_2 = X\n",
    "    all_sample = Y\n",
    "    [N, cols] = all_sample.shape\n",
    "    df_sample = pd.DataFrame(all_sample)\n",
    "    df_sample['idx'] = range(len(df_sample))\n",
    "    df_sample['name'] = 'pop_1'\n",
    "    df_sample = df_sample.set_index(['name', 'idx'])\n",
    "    # create list with blocks\n",
    "    First_Block = Block(sample_data = df_sample,\n",
    "                        vertices = np.array([[Xmin,Ymin],[Xmax,Ymax]]),\n",
    "                        elements = all_sample, \n",
    "                        stats = range(1,N+2))\n",
    "    Blocks_List = [First_Block]\n",
    "    for i in range(N):\n",
    "        # search the last block that has the K[i] stat\n",
    "        for j in range(len(Blocks_List)):\n",
    "            if (K[i] in Blocks_List[j].stats and Blocks_List[j].leftChild == None):\n",
    "                Blocks_List[j].split(axis = H[K[i]-1], korder = K[i])\n",
    "                Blocks_List.extend([Blocks_List[j].leftChild, Blocks_List[j].rightChild])            \n",
    "                break\n",
    "    Blocks_Final = []\n",
    "    for j in range(len(Blocks_List)):\n",
    "        if Blocks_List[j].leftChild == None:\n",
    "            Blocks_Final.extend([Blocks_List[j]])\n",
    "    # test if both data samples come from the same distribution\n",
    "    # order the blocks and count their elements\n",
    "    Blocks_Order = order_blocks(Blocks_Final)\n",
    "    Ma = counting_blocks(Blocks_Order, sample_2)\n",
    "    ranks_pop1, ranks_pop2 = rank_by_blocks(blocks = Blocks_Order, countings = Ma)\n",
    "    ks_test = stats.ks_2samp(ranks_pop1, ranks_pop2)\n",
    "    mw_test = stats.mannwhitneyu(ranks_pop1,ranks_pop2)    \n",
    "    print(ks_test) \n",
    "    print(mw_test) \n"
   ]
  },
  {
   "cell_type": "markdown",
   "metadata": {
    "colab_type": "text",
    "id": "d3FoDyx-ZLtb"
   },
   "source": [
    "### 9. Mixture case"
   ]
  },
  {
   "cell_type": "code",
   "execution_count": 0,
   "metadata": {
    "colab": {},
    "colab_type": "code",
    "id": "jQzgd-ALZLtk"
   },
   "outputs": [],
   "source": [
    "# first data from Kim: Scale\n",
    "meanX = np.array([0.85,0.85])\n",
    "covX = 0.281*np.array([[1,0],[0,1]])\n",
    "meanY = np.array([0,0])\n",
    "covY = 1*np.array([[1,0],[0,1]])\n",
    "N = 32\n",
    "M = 32\n",
    "\n",
    "Xmin = min(meanX[0]-4*covX[0,0], meanY[0]-4*covY[0,0])\n",
    "Xmax = max(meanX[0]+4*covX[0,0], meanY[0]+4*covY[0,0])\n",
    "Ymin = min(meanX[1]-4*covX[1,1], meanY[1]-4*covY[1,1])\n",
    "Ymax = max(meanX[1]+4*covX[1,1], meanY[1]+4*covY[1,1])\n",
    "\n",
    "\n",
    "# define cutting functions and permutation order, blocks from data X\n",
    "Lists = CPfunctions(N)\n",
    "Lists.permutation()\n",
    "Lists.cutting()\n",
    "K = Lists.perm\n",
    "H = Lists.cut"
   ]
  },
  {
   "cell_type": "markdown",
   "metadata": {
    "colab_type": "text",
    "id": "cIV5pALFZLtq"
   },
   "source": [
    "### Excecution of Nrep repetitions of the test, generating diferent samples and using blocks from data X"
   ]
  },
  {
   "cell_type": "code",
   "execution_count": 0,
   "metadata": {
    "colab": {
     "base_uri": "https://localhost:8080/",
     "height": 208
    },
    "colab_type": "code",
    "executionInfo": {
     "elapsed": 947,
     "status": "ok",
     "timestamp": 1587064327603,
     "user": {
      "displayName": "Raul Torres",
      "photoUrl": "",
      "userId": "03430272771244400202"
     },
     "user_tz": -120
    },
    "id": "z5gA2tfcZLtr",
    "outputId": "101f8bac-886a-4d31-eb93-698351c86d67"
   },
   "outputs": [
    {
     "name": "stdout",
     "output_type": "stream",
     "text": [
      "Ks_2sampResult(statistic=0.375, pvalue=0.021411615091346068)\n",
      "MannwhitneyuResult(statistic=373.0, pvalue=0.03146676473566123)\n",
      "Ks_2sampResult(statistic=0.4375, pvalue=0.003930635540499007)\n",
      "MannwhitneyuResult(statistic=281.0, pvalue=0.0009842006196533735)\n",
      "Ks_2sampResult(statistic=0.375, pvalue=0.021411615091346068)\n",
      "MannwhitneyuResult(statistic=322.0, pvalue=0.005472566979989961)\n",
      "Ks_2sampResult(statistic=0.34375, pvalue=0.04486227643337436)\n",
      "MannwhitneyuResult(statistic=358.0, pvalue=0.019648270777590147)\n",
      "Ks_2sampResult(statistic=0.28125, pvalue=0.16006945300221284)\n",
      "MannwhitneyuResult(statistic=456.0, pvalue=0.2280732835739096)\n",
      "0.2267770767211914\n"
     ]
    }
   ],
   "source": [
    "Nrep = 5   # number of repetitions\n",
    "counter = 0   # counts the number of rejections of H0\n",
    "\n",
    "start = time.time()\n",
    "\n",
    "for repetition in range(Nrep):\n",
    "    #generate X data\n",
    "    X = np.random.multivariate_normal(meanX, covX, N)*0.5 + 0.05*np.random.multivariate_normal(-meanX, covX, N)\n",
    "    # generate Y data\n",
    "    Y = np.random.multivariate_normal(meanY, covY, M)\n",
    "    # configuration\n",
    "    sample_1 = X\n",
    "    sample_2 = Y\n",
    "    all_sample = X\n",
    "    [N, cols] = all_sample.shape\n",
    "    df_sample = pd.DataFrame(all_sample)\n",
    "    df_sample['idx'] = range(len(df_sample))\n",
    "    df_sample['name'] = 'pop_1'\n",
    "    df_sample = df_sample.set_index(['name', 'idx'])\n",
    "    # create list with blocks\n",
    "    First_Block = Block(sample_data = df_sample,\n",
    "                        vertices = np.array([[Xmin,Ymin],[Xmax,Ymax]]),\n",
    "                        elements = all_sample, \n",
    "                        stats = range(1,N+2))\n",
    "    Blocks_List = [First_Block]\n",
    "    for i in range(N):\n",
    "        # search the last block that has the K[i] stat\n",
    "        for j in range(len(Blocks_List)):\n",
    "            if (K[i] in Blocks_List[j].stats and Blocks_List[j].leftChild == None):\n",
    "                Blocks_List[j].split(axis = H[K[i]-1], korder = K[i])\n",
    "                Blocks_List.extend([Blocks_List[j].leftChild, Blocks_List[j].rightChild])            \n",
    "                break\n",
    "    Blocks_Final = []\n",
    "    for j in range(len(Blocks_List)):\n",
    "        if Blocks_List[j].leftChild == None:\n",
    "            Blocks_Final.extend([Blocks_List[j]])\n",
    "    # test if both data samples come from the same distribution\n",
    "    # order the blocks and count their elements\n",
    "    Blocks_Order = order_blocks(Blocks_Final)\n",
    "    Ma = counting_blocks(Blocks_Order, sample_2)\n",
    "    ranks_pop1, ranks_pop2 = rank_by_blocks(blocks = Blocks_Order, countings = Ma)\n",
    "    ks_test = stats.ks_2samp(ranks_pop1, ranks_pop2)\n",
    "    mw_test = stats.mannwhitneyu(ranks_pop1,ranks_pop2)    \n",
    "    print(ks_test) \n",
    "    print(mw_test) \n",
    "\n",
    "end = time.time()\n",
    "print(end-start)"
   ]
  },
  {
   "cell_type": "markdown",
   "metadata": {
    "colab_type": "text",
    "id": "tepsy8P-ZLtu"
   },
   "source": [
    "### Excecution of Nrep repetitions of the test, generating diferent samples and using blocks from data Y"
   ]
  },
  {
   "cell_type": "code",
   "execution_count": 0,
   "metadata": {
    "colab": {
     "base_uri": "https://localhost:8080/",
     "height": 191
    },
    "colab_type": "code",
    "executionInfo": {
     "elapsed": 878,
     "status": "ok",
     "timestamp": 1587064337412,
     "user": {
      "displayName": "Raul Torres",
      "photoUrl": "",
      "userId": "03430272771244400202"
     },
     "user_tz": -120
    },
    "id": "Cetm3ogcZLtv",
    "outputId": "869498b8-d32a-4090-c2fc-ea10051e6510"
   },
   "outputs": [
    {
     "name": "stdout",
     "output_type": "stream",
     "text": [
      "Ks_2sampResult(statistic=0.40625, pvalue=0.009516275438959759)\n",
      "MannwhitneyuResult(statistic=319.0, pvalue=0.004872804677685491)\n",
      "Ks_2sampResult(statistic=0.59375, pvalue=1.4336664587935851e-05)\n",
      "MannwhitneyuResult(statistic=294.0, pvalue=0.0017478783548084112)\n",
      "Ks_2sampResult(statistic=0.59375, pvalue=1.4336664587935851e-05)\n",
      "MannwhitneyuResult(statistic=270.0, pvalue=0.0005921020329226803)\n",
      "Ks_2sampResult(statistic=0.65625, pvalue=8.115093162982555e-07)\n",
      "MannwhitneyuResult(statistic=195.0, pvalue=1.0703127351451862e-05)\n",
      "Ks_2sampResult(statistic=0.53125, pvalue=0.0001740880699963639)\n",
      "MannwhitneyuResult(statistic=349.0, pvalue=0.014557995309750563)\n"
     ]
    }
   ],
   "source": [
    "Nrep = 5   # number of repetitions\n",
    "counter = 0   # counts the number of rejections of H0\n",
    "for repetition in range(Nrep):\n",
    "    #generate X data\n",
    "    X = np.random.multivariate_normal(meanX, covX, N)*0.5 + 0.05*np.random.multivariate_normal(-meanX, covX, N)\n",
    "    # generate Y data\n",
    "    Y = np.random.multivariate_normal(meanY, covY, M)\n",
    "    # configuration\n",
    "    sample_1 = Y\n",
    "    sample_2 = X\n",
    "    all_sample = Y\n",
    "    [N, cols] = all_sample.shape\n",
    "    df_sample = pd.DataFrame(all_sample)\n",
    "    df_sample['idx'] = range(len(df_sample))\n",
    "    df_sample['name'] = 'pop_1'\n",
    "    df_sample = df_sample.set_index(['name', 'idx'])\n",
    "    # create list with blocks\n",
    "    First_Block = Block(sample_data = df_sample,\n",
    "                        vertices = np.array([[Xmin,Ymin],[Xmax,Ymax]]),\n",
    "                        elements = all_sample, \n",
    "                        stats = range(1,N+2))\n",
    "    Blocks_List = [First_Block]\n",
    "    for i in range(N):\n",
    "        # search the last block that has the K[i] stat\n",
    "        for j in range(len(Blocks_List)):\n",
    "            if (K[i] in Blocks_List[j].stats and Blocks_List[j].leftChild == None):\n",
    "                Blocks_List[j].split(axis = H[K[i]-1], korder = K[i])\n",
    "                Blocks_List.extend([Blocks_List[j].leftChild, Blocks_List[j].rightChild])            \n",
    "                break\n",
    "    Blocks_Final = []\n",
    "    for j in range(len(Blocks_List)):\n",
    "        if Blocks_List[j].leftChild == None:\n",
    "            Blocks_Final.extend([Blocks_List[j]])\n",
    "    # test if both data samples come from the same distribution\n",
    "    # order the blocks and count their elements\n",
    "    Blocks_Order = order_blocks(Blocks_Final)\n",
    "    Ma = counting_blocks(Blocks_Order, sample_2)\n",
    "    ranks_pop1, ranks_pop2 = rank_by_blocks(blocks = Blocks_Order, countings = Ma)\n",
    "    ks_test = stats.ks_2samp(ranks_pop1, ranks_pop2)\n",
    "    mw_test = stats.mannwhitneyu(ranks_pop1,ranks_pop2)    \n",
    "    print(ks_test) \n",
    "    print(mw_test) \n"
   ]
  },
  {
   "cell_type": "markdown",
   "metadata": {
    "colab_type": "text",
    "id": "VJO0aJ2IaJBj"
   },
   "source": [
    "### 10. Correlation case"
   ]
  },
  {
   "cell_type": "code",
   "execution_count": 0,
   "metadata": {
    "colab": {},
    "colab_type": "code",
    "id": "3Ha_tZO2aJBm"
   },
   "outputs": [],
   "source": [
    "# first data from Kim: Scale\n",
    "meanX = np.array([0,0])\n",
    "covX = 1*np.array([[1,0.5],[0.5,1]])\n",
    "meanY = np.array([0,0])\n",
    "covY = 1*np.array([[1,-0.5],[-0.5,1]])\n",
    "N = 32\n",
    "M = 32\n",
    "\n",
    "Xmin = min(meanX[0]-4*covX[0,0], meanY[0]-4*covY[0,0])\n",
    "Xmax = max(meanX[0]+4*covX[0,0], meanY[0]+4*covY[0,0])\n",
    "Ymin = min(meanX[1]-4*covX[1,1], meanY[1]-4*covY[1,1])\n",
    "Ymax = max(meanX[1]+4*covX[1,1], meanY[1]+4*covY[1,1])\n",
    "\n",
    "\n",
    "# define cutting functions and permutation order, blocks from data X\n",
    "Lists = CPfunctions(N)\n",
    "Lists.permutation()\n",
    "Lists.cutting()\n",
    "K = Lists.perm\n",
    "H = Lists.cut"
   ]
  },
  {
   "cell_type": "markdown",
   "metadata": {
    "colab_type": "text",
    "id": "dkLK1pnYaJBr"
   },
   "source": [
    "### Excecution of Nrep repetitions of the test, generating diferent samples and using blocks from data X"
   ]
  },
  {
   "cell_type": "code",
   "execution_count": 0,
   "metadata": {
    "colab": {
     "base_uri": "https://localhost:8080/",
     "height": 208
    },
    "colab_type": "code",
    "executionInfo": {
     "elapsed": 761,
     "status": "ok",
     "timestamp": 1587064469721,
     "user": {
      "displayName": "Raul Torres",
      "photoUrl": "",
      "userId": "03430272771244400202"
     },
     "user_tz": -120
    },
    "id": "d7nLB5BFaJBs",
    "outputId": "0070e0ec-6e20-4d6a-b396-2b12f54f7270"
   },
   "outputs": [
    {
     "name": "stdout",
     "output_type": "stream",
     "text": [
      "Ks_2sampResult(statistic=0.28125, pvalue=0.16006945300221284)\n",
      "MannwhitneyuResult(statistic=457.0, pvalue=0.23215146361146832)\n",
      "Ks_2sampResult(statistic=0.375, pvalue=0.021411615091346068)\n",
      "MannwhitneyuResult(statistic=392.0, pvalue=0.054296998984399804)\n",
      "Ks_2sampResult(statistic=0.3125, pvalue=0.08768209741820022)\n",
      "MannwhitneyuResult(statistic=425.0, pvalue=0.12272971431953023)\n",
      "Ks_2sampResult(statistic=0.28125, pvalue=0.16006945300221284)\n",
      "MannwhitneyuResult(statistic=483.0, pvalue=0.35098078968260626)\n",
      "Ks_2sampResult(statistic=0.3125, pvalue=0.08768209741820022)\n",
      "MannwhitneyuResult(statistic=408.0, pvalue=0.08230841356120017)\n",
      "0.23830413818359375\n"
     ]
    }
   ],
   "source": [
    "Nrep = 5   # number of repetitions\n",
    "counter = 0   # counts the number of rejections of H0\n",
    "\n",
    "start = time.time()\n",
    "\n",
    "for repetition in range(Nrep):\n",
    "    #generate X data\n",
    "    X = np.random.multivariate_normal(meanX, covX, N)\n",
    "    # generate Y data\n",
    "    Y = np.random.multivariate_normal(meanY, covY, M)\n",
    "    # configuration\n",
    "    sample_1 = X\n",
    "    sample_2 = Y\n",
    "    all_sample = X\n",
    "    [N, cols] = all_sample.shape\n",
    "    df_sample = pd.DataFrame(all_sample)\n",
    "    df_sample['idx'] = range(len(df_sample))\n",
    "    df_sample['name'] = 'pop_1'\n",
    "    df_sample = df_sample.set_index(['name', 'idx'])\n",
    "    # create list with blocks\n",
    "    First_Block = Block(sample_data = df_sample,\n",
    "                        vertices = np.array([[Xmin,Ymin],[Xmax,Ymax]]),\n",
    "                        elements = all_sample, \n",
    "                        stats = range(1,N+2))\n",
    "    Blocks_List = [First_Block]\n",
    "    for i in range(N):\n",
    "        # search the last block that has the K[i] stat\n",
    "        for j in range(len(Blocks_List)):\n",
    "            if (K[i] in Blocks_List[j].stats and Blocks_List[j].leftChild == None):\n",
    "                Blocks_List[j].split(axis = H[K[i]-1], korder = K[i])\n",
    "                Blocks_List.extend([Blocks_List[j].leftChild, Blocks_List[j].rightChild])            \n",
    "                break\n",
    "    Blocks_Final = []\n",
    "    for j in range(len(Blocks_List)):\n",
    "        if Blocks_List[j].leftChild == None:\n",
    "            Blocks_Final.extend([Blocks_List[j]])\n",
    "    # test if both data samples come from the same distribution\n",
    "    # order the blocks and count their elements\n",
    "    Blocks_Order = order_blocks(Blocks_Final)\n",
    "    Ma = counting_blocks(Blocks_Order, sample_2)\n",
    "    ranks_pop1, ranks_pop2 = rank_by_blocks(blocks = Blocks_Order, countings = Ma)\n",
    "    ks_test = stats.ks_2samp(ranks_pop1, ranks_pop2)\n",
    "    mw_test = stats.mannwhitneyu(ranks_pop1,ranks_pop2)    \n",
    "    print(ks_test) \n",
    "    print(mw_test) \n",
    "\n",
    "end = time.time()\n",
    "print(end-start)"
   ]
  },
  {
   "cell_type": "markdown",
   "metadata": {
    "colab_type": "text",
    "id": "nE7e3sqlaJBv"
   },
   "source": [
    "### Excecution of Nrep repetitions of the test, generating diferent samples and using blocks from data Y"
   ]
  },
  {
   "cell_type": "code",
   "execution_count": 0,
   "metadata": {
    "colab": {
     "base_uri": "https://localhost:8080/",
     "height": 191
    },
    "colab_type": "code",
    "executionInfo": {
     "elapsed": 778,
     "status": "ok",
     "timestamp": 1587064480858,
     "user": {
      "displayName": "Raul Torres",
      "photoUrl": "",
      "userId": "03430272771244400202"
     },
     "user_tz": -120
    },
    "id": "v7nX-5QlaJBv",
    "outputId": "facee48b-2afc-4f1e-c092-7ffe49422c41"
   },
   "outputs": [
    {
     "name": "stdout",
     "output_type": "stream",
     "text": [
      "Ks_2sampResult(statistic=0.21875, pvalue=0.43373609970146565)\n",
      "MannwhitneyuResult(statistic=498.0, pvalue=0.428079169360144)\n",
      "Ks_2sampResult(statistic=0.28125, pvalue=0.16006945300221284)\n",
      "MannwhitneyuResult(statistic=466.0, pvalue=0.27062114025327616)\n",
      "Ks_2sampResult(statistic=0.3125, pvalue=0.08768209741820022)\n",
      "MannwhitneyuResult(statistic=423.0, pvalue=0.11735700465666876)\n",
      "Ks_2sampResult(statistic=0.3125, pvalue=0.08768209741820022)\n",
      "MannwhitneyuResult(statistic=401.0, pvalue=0.06894419617622678)\n",
      "Ks_2sampResult(statistic=0.5625, pvalue=5.222642099890917e-05)\n",
      "MannwhitneyuResult(statistic=300.0, pvalue=0.0022567867674860675)\n"
     ]
    }
   ],
   "source": [
    "Nrep = 5   # number of repetitions\n",
    "counter = 0   # counts the number of rejections of H0\n",
    "for repetition in range(Nrep):\n",
    "    #generate X data\n",
    "    X = np.random.multivariate_normal(meanX, covX, N)\n",
    "    # generate Y data\n",
    "    Y = np.random.multivariate_normal(meanY, covY, M)\n",
    "    # configuration\n",
    "    sample_1 = Y\n",
    "    sample_2 = X\n",
    "    all_sample = Y\n",
    "    [N, cols] = all_sample.shape\n",
    "    df_sample = pd.DataFrame(all_sample)\n",
    "    df_sample['idx'] = range(len(df_sample))\n",
    "    df_sample['name'] = 'pop_1'\n",
    "    df_sample = df_sample.set_index(['name', 'idx'])\n",
    "    # create list with blocks\n",
    "    First_Block = Block(sample_data = df_sample,\n",
    "                        vertices = np.array([[Xmin,Ymin],[Xmax,Ymax]]),\n",
    "                        elements = all_sample, \n",
    "                        stats = range(1,N+2))\n",
    "    Blocks_List = [First_Block]\n",
    "    for i in range(N):\n",
    "        # search the last block that has the K[i] stat\n",
    "        for j in range(len(Blocks_List)):\n",
    "            if (K[i] in Blocks_List[j].stats and Blocks_List[j].leftChild == None):\n",
    "                Blocks_List[j].split(axis = H[K[i]-1], korder = K[i])\n",
    "                Blocks_List.extend([Blocks_List[j].leftChild, Blocks_List[j].rightChild])            \n",
    "                break\n",
    "    Blocks_Final = []\n",
    "    for j in range(len(Blocks_List)):\n",
    "        if Blocks_List[j].leftChild == None:\n",
    "            Blocks_Final.extend([Blocks_List[j]])\n",
    "    # test if both data samples come from the same distribution\n",
    "    # order the blocks and count their elements\n",
    "    Blocks_Order = order_blocks(Blocks_Final)\n",
    "    Ma = counting_blocks(Blocks_Order, sample_2)\n",
    "    ranks_pop1, ranks_pop2 = rank_by_blocks(blocks = Blocks_Order, countings = Ma)\n",
    "    ks_test = stats.ks_2samp(ranks_pop1, ranks_pop2)\n",
    "    mw_test = stats.mannwhitneyu(ranks_pop1,ranks_pop2)    \n",
    "    print(ks_test) \n",
    "    print(mw_test) \n"
   ]
  }
 ],
 "metadata": {
  "colab": {
   "collapsed_sections": [],
   "name": "Rank_based_tests.ipynb",
   "provenance": [
    {
     "file_id": "17W23TNuIT_VO3_HWk0hvW18f8wda1YMU",
     "timestamp": 1587057702977
    }
   ]
  },
  "kernelspec": {
   "display_name": "Python 3",
   "language": "python",
   "name": "python3"
  },
  "language_info": {
   "codemirror_mode": {
    "name": "ipython",
    "version": 3
   },
   "file_extension": ".py",
   "mimetype": "text/x-python",
   "name": "python",
   "nbconvert_exporter": "python",
   "pygments_lexer": "ipython3",
   "version": "3.8.3"
  }
 },
 "nbformat": 4,
 "nbformat_minor": 1
}
