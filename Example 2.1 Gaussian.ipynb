{
 "cells": [
  {
   "cell_type": "markdown",
   "metadata": {},
   "source": [
    "## Contruction of Blocks as in Example 2.1, Matthews & Taylor, with a Gaussian distribution"
   ]
  },
  {
   "cell_type": "markdown",
   "metadata": {},
   "source": [
    "### 0. Import libraries"
   ]
  },
  {
   "cell_type": "code",
   "execution_count": 1,
   "metadata": {},
   "outputs": [],
   "source": [
    "import numpy as np\n",
    "import matplotlib.pyplot as plt"
   ]
  },
  {
   "cell_type": "markdown",
   "metadata": {},
   "source": [
    "### 1. Data"
   ]
  },
  {
   "cell_type": "code",
   "execution_count": 9,
   "metadata": {},
   "outputs": [
    {
     "data": {
      "text/plain": [
       "Text(0.5, 1.0, 'Scatterplot of sample X')"
      ]
     },
     "execution_count": 9,
     "metadata": {},
     "output_type": "execute_result"
    },
    {
     "data": {
      "image/png": "[encoded data removed]",
      "text/plain": [
       "<Figure size 576x432 with 1 Axes>"
      ]
     },
     "metadata": {
      "needs_background": "light"
     },
     "output_type": "display_data"
    }
   ],
   "source": [
    "np.random.seed(9)\n",
    "mean = np.array([0,0])\n",
    "cov = np.array([[10,0.6],[0.6,10]])\n",
    "N = 200\n",
    "X = np.random.multivariate_normal(mean, cov, N)\n",
    "\n",
    "plt.figure(figsize=(8,6))\n",
    "plt.plot(X[:,0], X[:,1], 'o', color = 'C1', label = 'Data', zorder = 1, ms = 5)\n",
    "\n",
    "plt.xlim(-10,10)\n",
    "plt.ylim(-10,10)\n",
    "\n",
    "plt.title('Scatterplot of sample X', fontsize=18)\n",
    "# plt.legend(fontsize=18)\n",
    "# plt.grid()"
   ]
  },
  {
   "cell_type": "markdown",
   "metadata": {},
   "source": [
    "### 2. Cutting functions"
   ]
  },
  {
   "cell_type": "code",
   "execution_count": 10,
   "metadata": {},
   "outputs": [
    {
     "name": "stdout",
     "output_type": "stream",
     "text": [
      "[0, 1, 0, 1, 0, 1, 0, 1] [1, 2, 4, 8, 16, 32, 64, 128]\n",
      "[0 1 1 0 0 0 0 1 1 1 1 1 1 1 1 0 0 0 0 0 0 0 0 0 0 0 0 0 0 0 0 1 1 1 1 1 1\n",
      " 1 1 1 1 1 1 1 1 1 1 1 1 1 1 1 1 1 1 1 1 1 1 1 1 1 1 0 0 0 0 0 0 0 0 0 0 0\n",
      " 0 0 0 0 0 0 0 0 0 0 0 0 0 0 0 0 0 0 0 0 0 0 0 0 0 0 0 0 0 0 0 0 0 0 0 0 0\n",
      " 0 0 0 0 0 0 0 0 0 0 0 0 0 0 0 0 1 1 1 1 1 1 1 1 1 1 1 1 1 1 1 1 1 1 1 1 1\n",
      " 1 1 1 1 1 1 1 1 1 1 1 1 1 1 1 1 1 1 1 1 1 1 1 1 1 1 1 1 1 1 1 1 1 1 1 1 1\n",
      " 1 1 1 1 1 1 1 1 1 1 1 1 1 1 1]\n",
      "[100  50 150  25  75 125 175  12  37  62  87 112 137 162 188   6  18  31\n",
      "  43  56  68  81  93 106 118 131 143 156 168 181 194   3   9  15  21  28\n",
      "  34  40  46  53  59  65  71  78  84  90  96 103 109 115 121 128 134 140\n",
      " 146 153 159 165 171 178 184 191 197   1   4   7  10  13  16  19  23  26\n",
      "  29  32  35  38  41  44  48  51  54  57  60  63  66  69  73  76  79  82\n",
      "  85  88  91  94  98 101 104 107 110 113 116 119 123 126 129 132 135 138\n",
      " 141 144 148 151 154 157 160 163 166 169 173 176 179 182 186 189 192 195\n",
      " 199   2   5   8  11  14  17  20  22  24  27  30  33  36  39  42  45  47\n",
      "  49  52  55  58  61  64  67  70  72  74  77  80  83  86  89  92  95  97\n",
      "  99 102 105 108 111 114 117 120 122 124 127 130 133 136 139 142 145 147\n",
      " 149 152 155 158 161 164 167 170 172 174 177 180 183 185 187 190 193 196\n",
      " 198 200]\n"
     ]
    }
   ],
   "source": [
    "# each function is arbitrary and takes one of the components of the corresponding (x1, x2)\n",
    "# H = np.array([1,1,0,1,1,1,0,1,1,0,0,0,1,0,1,0,1,0,0,1])\n",
    "H = np.random.randint(0, 2, N)\n",
    "\n",
    "# define the permutaions (arbitrary)\n",
    "# K = np.array([10, 5, 15, 3, 7, 12, 18, 2, 4, 6, 8, 11, 13, 16, 19, 1, 9, 14, 17, 20])\n",
    "K = np.arange(1,N+1)\n",
    "np.random.shuffle(K)\n",
    "\n",
    "# we are going to order K and H in a diadic way\n",
    "new_K = []\n",
    "new_H = H\n",
    "k_first = list(K)\n",
    "k_first.sort()   # sort the list\n",
    "K_List = [k_first]\n",
    "K_marker = [0]  # index that says if the corresponding K_List has been partitioned or not\n",
    "\n",
    "H_counter = []   # counter to asign values of H\n",
    "h = 0\n",
    "while sum(H_counter) <= len(new_H):\n",
    "    H_counter.append(2**h)\n",
    "    h = h+1\n",
    "    \n",
    "H_value = [0]*len(H_counter)    # values of H to asign\n",
    "for i in range(len(H_value)):\n",
    "    if i%2 == 1:\n",
    "        H_value[i] = 1\n",
    "\n",
    "for i in range(N):\n",
    "    # choose list to divide\n",
    "    for j in range(len(K_List)):\n",
    "        if K_marker[j] == 0 and len(K_List[j]) >= 1:\n",
    "            length_K = len(K_List[j])\n",
    "            # choose position of new_K in the list\n",
    "            K_position = (length_K+1)//2 - 1   # the middle (even) or the first integer greater than the middle (odd)\n",
    "            new_K.append(K_List[j][K_position])\n",
    "            # split the existing array            \n",
    "            K_List.append(K_List[j][:K_position])\n",
    "            K_List.append(K_List[j][K_position+1:])\n",
    "            K_marker[j] = 1\n",
    "            K_marker.append(0)\n",
    "            K_marker.append(0)\n",
    "            break\n",
    "print(H_value, H_counter)\n",
    "# for each element in K, asign the corresponding element in H\n",
    "\n",
    "for i in range(N):\n",
    "    for m in range(len(H_value)):\n",
    "        if i+1 <= sum(H_counter[:m+1]):\n",
    "            new_H[new_K[i]-1] = H_value[m]\n",
    "            break\n",
    "    \n",
    "H = np.array(new_H)\n",
    "K = np.array(new_K)\n",
    "#np.random.shuffle(H)\n",
    "#np.random.shuffle(K)\n",
    "print(H[K-1])\n",
    "print(K)\n"
   ]
  },
  {
   "cell_type": "markdown",
   "metadata": {},
   "source": [
    "### 3. Let's define a class to work with the blocks"
   ]
  },
  {
   "cell_type": "code",
   "execution_count": 11,
   "metadata": {},
   "outputs": [],
   "source": [
    "class block():\n",
    "    def __init__(self, vertices = None, elements = None, stats = None, parent = None, leftChild = None, rightChild = None):\n",
    "        self.vertices = vertices   # array with 2 bidimensional elemntes, corresponding to the vertices of the block\n",
    "                                   # vertices must be ordered starting from the left bottom vertix and finishing with the\n",
    "                                   # right top vertix\n",
    "                                   # the array must have two rows and two columns (bidimensional case)\n",
    "        self.elements = elements   # array with the points that belong to the block. Each row contains an element and each\n",
    "                                   # column is a dimension (in this case, bidimensional)\n",
    "        self.stats = np.sort(stats) # array with index of blocks\n",
    "        self.parent = parent       # parent of the block\n",
    "        self.leftChild = leftChild\n",
    "        self.rightChild = rightChild\n",
    "    \n",
    "    def plot(self, color = 'C0', lw = 1, size = 12, print_num = True):\n",
    "        plt.plot(self.vertices[:,0], np.ones(2)*self.vertices[0,1], color = color, lw = lw)\n",
    "        plt.plot(np.ones(2)*self.vertices[1,0], self.vertices[:,1], color = color, lw = lw)\n",
    "        plt.plot(self.vertices[:,0], np.ones(2)*self.vertices[1,1], color = color, lw = lw)\n",
    "        plt.plot(np.ones(2)*self.vertices[0,0], self.vertices[:,1], color = color, lw = lw)\n",
    "        xplot = (self.vertices[0,0]+self.vertices[1,0])/2\n",
    "        yplot = (self.vertices[0,1]+self.vertices[1,1])/2\n",
    "        if self.stats.size == 1 and print_num:\n",
    "            plt.text(xplot, yplot, str(self.stats[0]), fontsize = size)\n",
    "\n",
    "        \n",
    "    def split(self, axis, korder):\n",
    "        \"\"\"\n",
    "        This method split a Block and creates two child blocks, making the partirion on the korder th statistic\n",
    "        axis: indicates wheter it is along the X axis (vertical, 0) or the Y axis (horizontal, 1)\n",
    "        korder: is the order statistic to make the partition\n",
    "        \"\"\"\n",
    "        # select the dimension to sort\n",
    "        Xele = self.elements[:,axis]\n",
    "        # select the kth order statistic\n",
    "        Xorder = np.sort(Xele)\n",
    "        minStat = min(self.stats)\n",
    "        korder = korder - minStat\n",
    "        xstat = Xorder[korder]\n",
    "        # divide the stats\n",
    "        statsL = self.stats[:korder+1]\n",
    "        statsR = self.stats[korder+1:]\n",
    "        # create the elements and vertices of each block\n",
    "        Relements = np.empty((0, 2))\n",
    "        Lelements = np.empty((0, 2))\n",
    "        \n",
    "        # add elements to vertices and elements for each case\n",
    "        if axis == 0:\n",
    "            Lvertices = np.array([self.vertices[0,:], [xstat, self.vertices[1,1]]])\n",
    "            Rvertices = np.array([[xstat, self.vertices[0,1]], self.vertices[1,:]])\n",
    "            # now we move on the elements of the parent block and select wich ones go to the left and right child\n",
    "            for l in range(self.elements.shape[0]):\n",
    "                if Xele[l] <= xstat:\n",
    "                    Lelements = np.append(Lelements, [self.elements[l, :]], axis = 0)   # add the new element as a row\n",
    "                else:   # Xele > xstat\n",
    "                    Relements = np.append(Relements, [self.elements[l, :]], axis = 0)   # add the new element as a row\n",
    "        elif axis == 1:\n",
    "            Lvertices = np.array([self.vertices[0,:], [self.vertices[1,0], xstat]])\n",
    "            Rvertices = np.array([[self.vertices[0,0], xstat],self.vertices[1,:]])\n",
    "            # now we move on the elements of the parent block and select wich ones go to the left and right child\n",
    "            for l in range(self.elements.shape[0]):\n",
    "                if Xele[l] <= xstat:\n",
    "                    Lelements = np.append(Lelements, [self.elements[l, :]], axis = 0)   # add the new element as a row\n",
    "                else:   # Xele > xstat\n",
    "                    Relements = np.append(Relements, [self.elements[l, :]], axis = 0)   # add the new element as a row\n",
    "                \n",
    "        # create the childs of the block\n",
    "        Rchild = block(vertices = Rvertices, elements = Relements, stats = statsR, parent = self)  \n",
    "        # right side or up side (the greaters elements)\n",
    "        Lchild = block(vertices = Lvertices, elements = Lelements, stats = statsL, parent = self)   \n",
    "        # left side or down side (the smaller elements)\n",
    "        \n",
    "        # asociate the childs to the parten\n",
    "        self.rightChild = Rchild\n",
    "        self.leftChild = Lchild\n",
    "        # return the place where the partition was made\n",
    "        return xstat\n",
    "        "
   ]
  },
  {
   "cell_type": "markdown",
   "metadata": {},
   "source": [
    "### 4. Partition: general case\n",
    "#### We proceed to use the block class to apply the partition in a iterative loop"
   ]
  },
  {
   "cell_type": "code",
   "execution_count": 17,
   "metadata": {},
   "outputs": [],
   "source": [
    "# create list with blocks\n",
    "\n",
    "lim_inf = np.floor(X.min(axis=0)-X.std(axis=0))[0]\n",
    "lim_max = np.ceil(X.max(axis=0)+X.std(axis=0))[0]\n",
    "\n",
    "First_Block = block(vertices = np.array([[lim_inf,lim_inf],[lim_max,lim_max]]), elements = X, stats = range(1,N+2))\n",
    "\n",
    "Blocks_List = [First_Block]\n",
    "\n",
    "for i in range(N):\n",
    "    #print(i)\n",
    "    # search the last block that has the K[i] stat\n",
    "    for j in range(len(Blocks_List)):\n",
    "        if K[i] in Blocks_List[j].stats and Blocks_List[j].leftChild == None:\n",
    "            #print(H[K[i]-1])\n",
    "            Blocks_List[j].split(axis = H[K[i]-1], korder = K[i])\n",
    "            Blocks_List.extend([Blocks_List[j].leftChild, Blocks_List[j].rightChild])\n",
    "            #print(Blocks_List[j].leftChild.stats)\n",
    "            #print(Blocks_List[j].rightChild.stats)\n",
    "            #print(Blocks_List[j].leftChild.elements)\n",
    "            #print(Blocks_List[j].rightChild.elements)\n",
    "            break"
   ]
  },
  {
   "cell_type": "markdown",
   "metadata": {},
   "source": [
    "### Now we plot the finals blocks"
   ]
  },
  {
   "cell_type": "code",
   "execution_count": 18,
   "metadata": {},
   "outputs": [
    {
     "data": {
      "image/png": "[encoded data removed]",
      "text/plain": [
       "<Figure size 576x432 with 1 Axes>"
      ]
     },
     "metadata": {
      "needs_background": "light"
     },
     "output_type": "display_data"
    }
   ],
   "source": [
    "# plot\n",
    "fig = plt.figure(figsize=(8,6))\n",
    "# Bloque.plot(color = 'g')\n",
    "plt.plot(X[:,0], X[:,1], 'o', color = 'C1')\n",
    "\n",
    "plt.xlim(lim_inf,lim_max)\n",
    "plt.ylim(lim_inf,lim_max)\n",
    "\n",
    "for j in range(len(Blocks_List)):\n",
    "    if Blocks_List[j].leftChild == None:\n",
    "        Blocks_List[j].plot(print_num = False)\n",
    "        \n"
   ]
  },
  {
   "cell_type": "code",
   "execution_count": null,
   "metadata": {},
   "outputs": [],
   "source": []
  }
 ],
 "metadata": {
  "kernelspec": {
   "display_name": "Python 3",
   "language": "python",
   "name": "python3"
  },
  "language_info": {
   "codemirror_mode": {
    "name": "ipython",
    "version": 3
   },
   "file_extension": ".py",
   "mimetype": "text/x-python",
   "name": "python",
   "nbconvert_exporter": "python",
   "pygments_lexer": "ipython3",
   "version": "3.7.1"
  }
 },
 "nbformat": 4,
 "nbformat_minor": 2
}
